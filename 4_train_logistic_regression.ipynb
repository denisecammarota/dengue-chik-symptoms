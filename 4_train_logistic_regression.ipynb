{
 "cells": [
  {
   "cell_type": "markdown",
   "id": "f5990ece",
   "metadata": {},
   "source": [
    "# Binary Classification of Dengue/Chikungunya Symptoms with Logistic Regression\n",
    "\n",
    "- Simple algorithm, a test run of a possible classification project of dengue/chikungunya based on the different symptoms and combinations of symptoms of each disease\n",
    "- Data on Dengue and Chikungunya from SINAN-2024\n",
    "- Conclusion: performance could be better, lots of dengue cases are classified as chikungunya. Therefore, lots of false positives. However, it isn't entirely bad."
   ]
  },
  {
   "cell_type": "code",
   "execution_count": 35,
   "id": "086851ba",
   "metadata": {},
   "outputs": [],
   "source": [
    "# standard libraries\n",
    "import numpy as np\n",
    "import matplotlib.pyplot as plt\n",
    "import seaborn as sns\n",
    "import pandas as pd\n",
    "\n",
    "# ML libraries and functions\n",
    "from sklearn.model_selection import train_test_split\n",
    "from sklearn.tree import DecisionTreeClassifier\n",
    "from sklearn.metrics import accuracy_score\n",
    "from sklearn import tree\n",
    "from sklearn.metrics import confusion_matrix\n",
    "from sklearn.linear_model import LogisticRegression\n",
    "from sklearn.model_selection import train_test_split, GridSearchCV, cross_val_score, RepeatedStratifiedKFold, StratifiedKFold\n",
    "import graphviz \n",
    "from sklearn.metrics import accuracy_score, confusion_matrix,roc_curve, roc_auc_score, precision_score, recall_score, precision_recall_curve\n",
    "from sklearn.metrics import f1_score"
   ]
  },
  {
   "cell_type": "code",
   "execution_count": 36,
   "id": "b18c8070",
   "metadata": {},
   "outputs": [],
   "source": [
    "# Loading the data \n",
    "\n",
    "df_dengue = pd.read_csv('dengue_SP.csv')\n",
    "df_chik = pd.read_csv('chik_SP.csv')"
   ]
  },
  {
   "cell_type": "code",
   "execution_count": 37,
   "id": "bac2000e",
   "metadata": {},
   "outputs": [
    {
     "data": {
      "text/html": [
       "<div>\n",
       "<style scoped>\n",
       "    .dataframe tbody tr th:only-of-type {\n",
       "        vertical-align: middle;\n",
       "    }\n",
       "\n",
       "    .dataframe tbody tr th {\n",
       "        vertical-align: top;\n",
       "    }\n",
       "\n",
       "    .dataframe thead th {\n",
       "        text-align: right;\n",
       "    }\n",
       "</style>\n",
       "<table border=\"1\" class=\"dataframe\">\n",
       "  <thead>\n",
       "    <tr style=\"text-align: right;\">\n",
       "      <th></th>\n",
       "      <th>CRITERIO</th>\n",
       "      <th>FEBRE</th>\n",
       "      <th>MIALGIA</th>\n",
       "      <th>CEFALEIA</th>\n",
       "      <th>EXANTEMA</th>\n",
       "      <th>VOMITO</th>\n",
       "      <th>NAUSEA</th>\n",
       "      <th>DOR_COSTAS</th>\n",
       "      <th>CONJUNTVIT</th>\n",
       "      <th>ARTRITE</th>\n",
       "      <th>ARTRALGIA</th>\n",
       "      <th>PETEQUIA_N</th>\n",
       "      <th>LEUCOPENIA</th>\n",
       "      <th>LACO</th>\n",
       "      <th>DOR_RETRO</th>\n",
       "    </tr>\n",
       "  </thead>\n",
       "  <tbody>\n",
       "    <tr>\n",
       "      <th>count</th>\n",
       "      <td>1.767186e+06</td>\n",
       "      <td>1.767186e+06</td>\n",
       "      <td>1.767186e+06</td>\n",
       "      <td>1.767186e+06</td>\n",
       "      <td>1.767186e+06</td>\n",
       "      <td>1.767186e+06</td>\n",
       "      <td>1.767186e+06</td>\n",
       "      <td>1.767186e+06</td>\n",
       "      <td>1.767186e+06</td>\n",
       "      <td>1.767186e+06</td>\n",
       "      <td>1.767186e+06</td>\n",
       "      <td>1.767186e+06</td>\n",
       "      <td>1.767186e+06</td>\n",
       "      <td>1.767186e+06</td>\n",
       "      <td>1.767186e+06</td>\n",
       "    </tr>\n",
       "    <tr>\n",
       "      <th>mean</th>\n",
       "      <td>1.525112e+00</td>\n",
       "      <td>1.135946e+00</td>\n",
       "      <td>1.220604e+00</td>\n",
       "      <td>1.206035e+00</td>\n",
       "      <td>1.909500e+00</td>\n",
       "      <td>1.740793e+00</td>\n",
       "      <td>1.564364e+00</td>\n",
       "      <td>1.669362e+00</td>\n",
       "      <td>1.962446e+00</td>\n",
       "      <td>1.903149e+00</td>\n",
       "      <td>1.870194e+00</td>\n",
       "      <td>1.941132e+00</td>\n",
       "      <td>1.957934e+00</td>\n",
       "      <td>1.960215e+00</td>\n",
       "      <td>1.698508e+00</td>\n",
       "    </tr>\n",
       "    <tr>\n",
       "      <th>std</th>\n",
       "      <td>5.130969e-01</td>\n",
       "      <td>3.427308e-01</td>\n",
       "      <td>4.146539e-01</td>\n",
       "      <td>4.044560e-01</td>\n",
       "      <td>2.868966e-01</td>\n",
       "      <td>4.381995e-01</td>\n",
       "      <td>4.958401e-01</td>\n",
       "      <td>4.704431e-01</td>\n",
       "      <td>1.901151e-01</td>\n",
       "      <td>2.957543e-01</td>\n",
       "      <td>3.360898e-01</td>\n",
       "      <td>2.353768e-01</td>\n",
       "      <td>2.007392e-01</td>\n",
       "      <td>1.954531e-01</td>\n",
       "      <td>4.589061e-01</td>\n",
       "    </tr>\n",
       "    <tr>\n",
       "      <th>min</th>\n",
       "      <td>1.000000e+00</td>\n",
       "      <td>1.000000e+00</td>\n",
       "      <td>1.000000e+00</td>\n",
       "      <td>1.000000e+00</td>\n",
       "      <td>1.000000e+00</td>\n",
       "      <td>1.000000e+00</td>\n",
       "      <td>1.000000e+00</td>\n",
       "      <td>1.000000e+00</td>\n",
       "      <td>1.000000e+00</td>\n",
       "      <td>1.000000e+00</td>\n",
       "      <td>1.000000e+00</td>\n",
       "      <td>1.000000e+00</td>\n",
       "      <td>1.000000e+00</td>\n",
       "      <td>1.000000e+00</td>\n",
       "      <td>1.000000e+00</td>\n",
       "    </tr>\n",
       "    <tr>\n",
       "      <th>25%</th>\n",
       "      <td>1.000000e+00</td>\n",
       "      <td>1.000000e+00</td>\n",
       "      <td>1.000000e+00</td>\n",
       "      <td>1.000000e+00</td>\n",
       "      <td>2.000000e+00</td>\n",
       "      <td>1.000000e+00</td>\n",
       "      <td>1.000000e+00</td>\n",
       "      <td>1.000000e+00</td>\n",
       "      <td>2.000000e+00</td>\n",
       "      <td>2.000000e+00</td>\n",
       "      <td>2.000000e+00</td>\n",
       "      <td>2.000000e+00</td>\n",
       "      <td>2.000000e+00</td>\n",
       "      <td>2.000000e+00</td>\n",
       "      <td>1.000000e+00</td>\n",
       "    </tr>\n",
       "    <tr>\n",
       "      <th>50%</th>\n",
       "      <td>2.000000e+00</td>\n",
       "      <td>1.000000e+00</td>\n",
       "      <td>1.000000e+00</td>\n",
       "      <td>1.000000e+00</td>\n",
       "      <td>2.000000e+00</td>\n",
       "      <td>2.000000e+00</td>\n",
       "      <td>2.000000e+00</td>\n",
       "      <td>2.000000e+00</td>\n",
       "      <td>2.000000e+00</td>\n",
       "      <td>2.000000e+00</td>\n",
       "      <td>2.000000e+00</td>\n",
       "      <td>2.000000e+00</td>\n",
       "      <td>2.000000e+00</td>\n",
       "      <td>2.000000e+00</td>\n",
       "      <td>2.000000e+00</td>\n",
       "    </tr>\n",
       "    <tr>\n",
       "      <th>75%</th>\n",
       "      <td>2.000000e+00</td>\n",
       "      <td>1.000000e+00</td>\n",
       "      <td>1.000000e+00</td>\n",
       "      <td>1.000000e+00</td>\n",
       "      <td>2.000000e+00</td>\n",
       "      <td>2.000000e+00</td>\n",
       "      <td>2.000000e+00</td>\n",
       "      <td>2.000000e+00</td>\n",
       "      <td>2.000000e+00</td>\n",
       "      <td>2.000000e+00</td>\n",
       "      <td>2.000000e+00</td>\n",
       "      <td>2.000000e+00</td>\n",
       "      <td>2.000000e+00</td>\n",
       "      <td>2.000000e+00</td>\n",
       "      <td>2.000000e+00</td>\n",
       "    </tr>\n",
       "    <tr>\n",
       "      <th>max</th>\n",
       "      <td>3.000000e+00</td>\n",
       "      <td>2.000000e+00</td>\n",
       "      <td>2.000000e+00</td>\n",
       "      <td>2.000000e+00</td>\n",
       "      <td>2.000000e+00</td>\n",
       "      <td>2.000000e+00</td>\n",
       "      <td>2.000000e+00</td>\n",
       "      <td>2.000000e+00</td>\n",
       "      <td>2.000000e+00</td>\n",
       "      <td>2.000000e+00</td>\n",
       "      <td>2.000000e+00</td>\n",
       "      <td>2.000000e+00</td>\n",
       "      <td>2.000000e+00</td>\n",
       "      <td>2.000000e+00</td>\n",
       "      <td>2.000000e+00</td>\n",
       "    </tr>\n",
       "  </tbody>\n",
       "</table>\n",
       "</div>"
      ],
      "text/plain": [
       "           CRITERIO         FEBRE       MIALGIA      CEFALEIA      EXANTEMA  \\\n",
       "count  1.767186e+06  1.767186e+06  1.767186e+06  1.767186e+06  1.767186e+06   \n",
       "mean   1.525112e+00  1.135946e+00  1.220604e+00  1.206035e+00  1.909500e+00   \n",
       "std    5.130969e-01  3.427308e-01  4.146539e-01  4.044560e-01  2.868966e-01   \n",
       "min    1.000000e+00  1.000000e+00  1.000000e+00  1.000000e+00  1.000000e+00   \n",
       "25%    1.000000e+00  1.000000e+00  1.000000e+00  1.000000e+00  2.000000e+00   \n",
       "50%    2.000000e+00  1.000000e+00  1.000000e+00  1.000000e+00  2.000000e+00   \n",
       "75%    2.000000e+00  1.000000e+00  1.000000e+00  1.000000e+00  2.000000e+00   \n",
       "max    3.000000e+00  2.000000e+00  2.000000e+00  2.000000e+00  2.000000e+00   \n",
       "\n",
       "             VOMITO        NAUSEA    DOR_COSTAS    CONJUNTVIT       ARTRITE  \\\n",
       "count  1.767186e+06  1.767186e+06  1.767186e+06  1.767186e+06  1.767186e+06   \n",
       "mean   1.740793e+00  1.564364e+00  1.669362e+00  1.962446e+00  1.903149e+00   \n",
       "std    4.381995e-01  4.958401e-01  4.704431e-01  1.901151e-01  2.957543e-01   \n",
       "min    1.000000e+00  1.000000e+00  1.000000e+00  1.000000e+00  1.000000e+00   \n",
       "25%    1.000000e+00  1.000000e+00  1.000000e+00  2.000000e+00  2.000000e+00   \n",
       "50%    2.000000e+00  2.000000e+00  2.000000e+00  2.000000e+00  2.000000e+00   \n",
       "75%    2.000000e+00  2.000000e+00  2.000000e+00  2.000000e+00  2.000000e+00   \n",
       "max    2.000000e+00  2.000000e+00  2.000000e+00  2.000000e+00  2.000000e+00   \n",
       "\n",
       "          ARTRALGIA    PETEQUIA_N    LEUCOPENIA          LACO     DOR_RETRO  \n",
       "count  1.767186e+06  1.767186e+06  1.767186e+06  1.767186e+06  1.767186e+06  \n",
       "mean   1.870194e+00  1.941132e+00  1.957934e+00  1.960215e+00  1.698508e+00  \n",
       "std    3.360898e-01  2.353768e-01  2.007392e-01  1.954531e-01  4.589061e-01  \n",
       "min    1.000000e+00  1.000000e+00  1.000000e+00  1.000000e+00  1.000000e+00  \n",
       "25%    2.000000e+00  2.000000e+00  2.000000e+00  2.000000e+00  1.000000e+00  \n",
       "50%    2.000000e+00  2.000000e+00  2.000000e+00  2.000000e+00  2.000000e+00  \n",
       "75%    2.000000e+00  2.000000e+00  2.000000e+00  2.000000e+00  2.000000e+00  \n",
       "max    2.000000e+00  2.000000e+00  2.000000e+00  2.000000e+00  2.000000e+00  "
      ]
     },
     "execution_count": 37,
     "metadata": {},
     "output_type": "execute_result"
    }
   ],
   "source": [
    "# Visualizing the data, making sure of the possible values\n",
    "df_dengue.describe()"
   ]
  },
  {
   "cell_type": "code",
   "execution_count": 38,
   "id": "3aed1f4b",
   "metadata": {},
   "outputs": [],
   "source": [
    "# Removing the cases under investigation\n",
    "df_dengue = df_dengue[df_dengue['CRITERIO'] != 3]\n",
    "df_chik = df_chik[df_chik['CRITERIO'] != 3]"
   ]
  },
  {
   "cell_type": "code",
   "execution_count": 39,
   "id": "cbc8b6d0",
   "metadata": {},
   "outputs": [
    {
     "name": "stdout",
     "output_type": "stream",
     "text": [
      "(1754905, 15)\n",
      "(6495, 15)\n"
     ]
    }
   ],
   "source": [
    "print(df_dengue.shape)\n",
    "print(df_chik.shape)"
   ]
  },
  {
   "cell_type": "code",
   "execution_count": 40,
   "id": "b66806e4",
   "metadata": {},
   "outputs": [],
   "source": [
    "# Separating the laboratorial vs the clinic/epidemiologic criteria\n",
    "\n",
    "df_dengue_lab = df_dengue[df_dengue['CRITERIO'] == 1]\n",
    "df_chik_lab = df_chik[df_chik['CRITERIO'] == 1]\n",
    "\n",
    "df_dengue_epi = df_dengue[df_dengue['CRITERIO'] == 2]\n",
    "df_chik_epi = df_chik[df_chik['CRITERIO'] == 2]"
   ]
  },
  {
   "cell_type": "code",
   "execution_count": 41,
   "id": "f9ce3881",
   "metadata": {},
   "outputs": [
    {
     "data": {
      "text/plain": [
       "(851496, 15)"
      ]
     },
     "execution_count": 41,
     "metadata": {},
     "output_type": "execute_result"
    }
   ],
   "source": [
    "df_dengue_lab.shape"
   ]
  },
  {
   "cell_type": "code",
   "execution_count": 42,
   "id": "0c5d572a",
   "metadata": {},
   "outputs": [
    {
     "data": {
      "text/plain": [
       "(5920, 15)"
      ]
     },
     "execution_count": 42,
     "metadata": {},
     "output_type": "execute_result"
    }
   ],
   "source": [
    "df_chik_lab.shape"
   ]
  },
  {
   "cell_type": "code",
   "execution_count": 43,
   "id": "7308d33e",
   "metadata": {},
   "outputs": [
    {
     "data": {
      "text/plain": [
       "143.8337837837838"
      ]
     },
     "execution_count": 43,
     "metadata": {},
     "output_type": "execute_result"
    }
   ],
   "source": [
    "851496/5920"
   ]
  },
  {
   "cell_type": "code",
   "execution_count": 44,
   "id": "5c1a3bc6",
   "metadata": {},
   "outputs": [],
   "source": [
    "# Doing some extra pre-processing\n",
    "\n",
    "## removing the criteria\n",
    "df_dengue_lab = df_dengue_lab.drop(columns = ['CRITERIO'])\n",
    "df_chik_lab = df_chik_lab.drop(columns = ['CRITERIO'])\n",
    "df_dengue_epi = df_dengue_epi.drop(columns = ['CRITERIO'])\n",
    "df_chik_epi = df_chik_epi.drop(columns = ['CRITERIO'])\n",
    "\n",
    "## replacing all 2 with 0 in the symptoms\n",
    "df_dengue_lab = df_dengue_lab.replace(2,0)\n",
    "df_chik_lab = df_chik_lab.replace(2,0)\n",
    "df_dengue_epi = df_dengue_epi.replace(2,0)\n",
    "df_chik_epi = df_chik_epi.replace(2,0)"
   ]
  },
  {
   "cell_type": "code",
   "execution_count": 45,
   "id": "452d2055",
   "metadata": {},
   "outputs": [
    {
     "data": {
      "text/plain": [
       "FEBRE         716065\n",
       "MIALGIA       656880\n",
       "CEFALEIA      665971\n",
       "EXANTEMA       83323\n",
       "VOMITO        212727\n",
       "NAUSEA        374268\n",
       "DOR_COSTAS    296718\n",
       "CONJUNTVIT     33019\n",
       "ARTRITE        86064\n",
       "ARTRALGIA     105796\n",
       "PETEQUIA_N     53816\n",
       "LEUCOPENIA     37189\n",
       "LACO           32486\n",
       "DOR_RETRO     248642\n",
       "dtype: int64"
      ]
     },
     "execution_count": 45,
     "metadata": {},
     "output_type": "execute_result"
    }
   ],
   "source": [
    "df_dengue_lab.sum(axis = 0)"
   ]
  },
  {
   "cell_type": "code",
   "execution_count": 46,
   "id": "2ae188d6",
   "metadata": {},
   "outputs": [
    {
     "data": {
      "text/plain": [
       "FEBRE         4790\n",
       "MIALGIA       5078\n",
       "CEFALEIA      4369\n",
       "EXANTEMA      1320\n",
       "VOMITO        1247\n",
       "NAUSEA        2374\n",
       "DOR_COSTAS    2718\n",
       "CONJUNTVIT     372\n",
       "ARTRITE       1821\n",
       "ARTRALGIA     2961\n",
       "PETEQUIA_N     632\n",
       "LEUCOPENIA     221\n",
       "LACO           273\n",
       "DOR_RETRO     1732\n",
       "dtype: int64"
      ]
     },
     "execution_count": 46,
     "metadata": {},
     "output_type": "execute_result"
    }
   ],
   "source": [
    "df_chik_lab.sum(axis = 0)"
   ]
  },
  {
   "cell_type": "code",
   "execution_count": 47,
   "id": "384aab89",
   "metadata": {},
   "outputs": [],
   "source": [
    "# Defining a new variable indicating for dengue\n",
    "df_dengue_lab['CHIK'] = 0\n",
    "df_dengue_epi['CHIK'] = 0\n",
    "df_chik_lab['CHIK'] = 1\n",
    "df_chik_epi['CHIK'] = 1"
   ]
  },
  {
   "cell_type": "code",
   "execution_count": 48,
   "id": "85b866ad",
   "metadata": {},
   "outputs": [],
   "source": [
    "# Defining the full laboratorial dataset\n",
    "df_lab = pd.concat([df_dengue_lab,df_chik_lab])\n",
    "\n",
    "# Defining the full epidemiological dataset\n",
    "df_epi = pd.concat([df_dengue_epi,df_chik_epi])"
   ]
  },
  {
   "cell_type": "markdown",
   "id": "eff30d97",
   "metadata": {},
   "source": [
    "## Defining Train and Test Datasets"
   ]
  },
  {
   "cell_type": "code",
   "execution_count": 49,
   "id": "b1584556",
   "metadata": {},
   "outputs": [],
   "source": [
    "# Defining target and features\n",
    "X = df_lab.drop(columns = ['CHIK'])\n",
    "y = df_lab['CHIK']"
   ]
  },
  {
   "cell_type": "code",
   "execution_count": 50,
   "id": "3260535d",
   "metadata": {},
   "outputs": [],
   "source": [
    "X_train, X_test, y_train, y_test = train_test_split(X, y, stratify=y, test_size = 0.3)"
   ]
  },
  {
   "cell_type": "code",
   "execution_count": 51,
   "id": "cef0daed",
   "metadata": {},
   "outputs": [
    {
     "name": "stdout",
     "output_type": "stream",
     "text": [
      "(600191, 14) (600191,)\n",
      "(257225, 14) (257225,)\n"
     ]
    }
   ],
   "source": [
    "print(X_train.shape, y_train.shape)\n",
    "print(X_test.shape, y_test.shape)"
   ]
  },
  {
   "cell_type": "markdown",
   "id": "a4243f1a",
   "metadata": {},
   "source": [
    "## Training Logistic Regression"
   ]
  },
  {
   "cell_type": "code",
   "execution_count": 21,
   "id": "2751e766",
   "metadata": {},
   "outputs": [
    {
     "name": "stdout",
     "output_type": "stream",
     "text": [
      "Accuracy Score: 0.9930955389250656\n",
      "Confusion Matrix: \n",
      "[[255449      0]\n",
      " [  1776      0]]\n",
      "Area Under Curve: 0.5\n",
      "Recall score: 0.0\n"
     ]
    }
   ],
   "source": [
    "# define model\n",
    "lg1 = LogisticRegression(random_state=13, class_weight=None)\n",
    "# fit it\n",
    "lg1.fit(X_train,y_train)\n",
    "# test\n",
    "y_pred = lg1.predict(X_test)\n",
    "# performance'\n",
    "print(f'Accuracy Score: {accuracy_score(y_test,y_pred)}')\n",
    "print(f'Confusion Matrix: \\n{confusion_matrix(y_test, y_pred)}')\n",
    "print(f'Area Under Curve: {roc_auc_score(y_test, y_pred)}')\n",
    "print(f'Recall score: {recall_score(y_test,y_pred)}')"
   ]
  },
  {
   "cell_type": "markdown",
   "id": "df0f8e8a",
   "metadata": {},
   "source": [
    "### Weighted logistic regression"
   ]
  },
  {
   "cell_type": "code",
   "execution_count": 22,
   "id": "e98c965d",
   "metadata": {},
   "outputs": [
    {
     "name": "stdout",
     "output_type": "stream",
     "text": [
      "Accuracy Score: 0.7867586743123725\n",
      "Confusion Matrix: \n",
      "[[201221  54228]\n",
      " [   623   1153]]\n",
      "Area Under Curve: 0.7184633381713081\n",
      "Recall score: 0.6492117117117117\n"
     ]
    }
   ],
   "source": [
    "# define class weights\n",
    "w = {0:1, 1:150}\n",
    "# define model\n",
    "lg2 = LogisticRegression(random_state=13, class_weight=w)\n",
    "# fit it\n",
    "lg2.fit(X_train,y_train)\n",
    "# test\n",
    "y_pred = lg2.predict(X_test)\n",
    "# performance\n",
    "print(f'Accuracy Score: {accuracy_score(y_test,y_pred)}')\n",
    "print(f'Confusion Matrix: \\n{confusion_matrix(y_test, y_pred)}')\n",
    "print(f'Area Under Curve: {roc_auc_score(y_test, y_pred)}')\n",
    "print(f'Recall score: {recall_score(y_test,y_pred)}')"
   ]
  },
  {
   "cell_type": "markdown",
   "id": "178bc9e5",
   "metadata": {},
   "source": [
    "### Grid Search logistic regression"
   ]
  },
  {
   "cell_type": "code",
   "execution_count": 24,
   "id": "82950de9",
   "metadata": {},
   "outputs": [
    {
     "name": "stdout",
     "output_type": "stream",
     "text": [
      "Best score: 0.769782618398816 with param: {'class_weight': {0: 1, 1: 500}}\n"
     ]
    }
   ],
   "source": [
    "# define weight hyperparameter\n",
    "w = [{0:1,1:100},{0:1,1:200},{0:1,1:500},{0:1,1:600}]\n",
    "hyperparam_grid = {\"class_weight\": w }\n",
    "\n",
    "# define model\n",
    "lg3 = LogisticRegression(random_state=13)\n",
    "# define evaluation procedure\n",
    "grid = GridSearchCV(lg3,hyperparam_grid,scoring=\"roc_auc\", n_jobs=1, refit=True)\n",
    "grid.fit(X_train,y_train)\n",
    "print(f'Best score: {grid.best_score_} with param: {grid.best_params_}')"
   ]
  },
  {
   "cell_type": "markdown",
   "id": "e69ced19",
   "metadata": {},
   "source": [
    "### Hyperparameter search logistic regression"
   ]
  },
  {
   "cell_type": "code",
   "execution_count": 52,
   "id": "b578da47",
   "metadata": {},
   "outputs": [
    {
     "name": "stdout",
     "output_type": "stream",
     "text": [
      "Best score: 0.769547981917546 with param: {'C': 2.0, 'class_weight': {0: 1, 1: 500}, 'fit_intercept': True}\n"
     ]
    }
   ],
   "source": [
    "# define hyperparameters\n",
    "w = [{0:1,1:100},{0:1,1:200},{0:1,1:500}]\n",
    "crange = np.arange(0.5,20.0, 0.5)\n",
    "hyperparam_grid = {\"class_weight\": w\n",
    "                   ,\"C\": crange\n",
    "                   ,\"fit_intercept\": [True, False]  }\n",
    "\n",
    "# logistic model classifier\n",
    "lg4 = LogisticRegression(random_state=13)\n",
    "# define evaluation procedure\n",
    "grid = GridSearchCV(lg4,hyperparam_grid,scoring=\"roc_auc\", n_jobs=1, refit=True)\n",
    "grid.fit(X_train,y_train)\n",
    "print(f'Best score: {grid.best_score_} with param: {grid.best_params_}')"
   ]
  },
  {
   "cell_type": "code",
   "execution_count": 53,
   "id": "9c8725ac",
   "metadata": {},
   "outputs": [
    {
     "name": "stdout",
     "output_type": "stream",
     "text": [
      "Accuracy Score: 0.1083331713480416\n",
      "Confusion Matrix: \n",
      "[[ 26148 229301]\n",
      " [    58   1718]]\n",
      "Area Under Curve: 0.5348516416369001\n",
      "Recall score: 0.9673423423423423\n"
     ]
    }
   ],
   "source": [
    "y_pred = grid.predict(X_test)\n",
    "# performance\n",
    "print(f'Accuracy Score: {accuracy_score(y_test,y_pred)}')\n",
    "print(f'Confusion Matrix: \\n{confusion_matrix(y_test, y_pred)}')\n",
    "print(f'Area Under Curve: {roc_auc_score(y_test, y_pred)}')\n",
    "print(f'Recall score: {recall_score(y_test,y_pred)}')"
   ]
  },
  {
   "cell_type": "markdown",
   "id": "010b6b05",
   "metadata": {},
   "source": [
    "## Doing a counterfactual of all cases "
   ]
  },
  {
   "cell_type": "markdown",
   "id": "90455ab7",
   "metadata": {},
   "source": [
    "### Number of chik and dengue - total"
   ]
  },
  {
   "cell_type": "code",
   "execution_count": 24,
   "id": "088aca8b",
   "metadata": {},
   "outputs": [],
   "source": [
    "X_lab = df_lab.drop(columns = ['CHIK'])\n",
    "X_epi = df_epi.drop(columns = ['CHIK'])\n",
    "y_lab = df_lab['CHIK']\n",
    "y_epi = df_epi['CHIK']"
   ]
  },
  {
   "cell_type": "code",
   "execution_count": 27,
   "id": "3c452366",
   "metadata": {},
   "outputs": [
    {
     "name": "stdout",
     "output_type": "stream",
     "text": [
      "Numbers from SINAN\n",
      "Dengue total - total:  1754905\n",
      "Chik total - total:  1150\n"
     ]
    }
   ],
   "source": [
    "print('Numbers from SINAN')\n",
    "print('Dengue total - total: ', np.sum(y_lab == 0) + np.sum(y_epi == 0))\n",
    "print('Chik total - total: ', np.sum(y_lab == 1) + np.sum(y_epi == 1))"
   ]
  },
  {
   "cell_type": "code",
   "execution_count": 28,
   "id": "18c000dc",
   "metadata": {},
   "outputs": [],
   "source": [
    "y_pred_lab = grid.predict(X_lab) \n",
    "y_pred_epi = grid.predict(X_epi)"
   ]
  },
  {
   "cell_type": "code",
   "execution_count": 32,
   "id": "608bd001",
   "metadata": {},
   "outputs": [
    {
     "name": "stdout",
     "output_type": "stream",
     "text": [
      "Numbers from Model\n",
      "Dengue total - total:  1420752\n",
      "Chik total - total:  335303\n"
     ]
    }
   ],
   "source": [
    "print('Numbers from Model')\n",
    "print('Dengue total - total: ', np.sum(y_pred_lab == 0) + np.sum(y_pred_epi == 0))\n",
    "print('Chik total - total: ', np.sum(y_pred_lab == 1) + np.sum(y_pred_epi == 1))"
   ]
  }
 ],
 "metadata": {
  "kernelspec": {
   "display_name": "Python 3 (ipykernel)",
   "language": "python",
   "name": "python3"
  },
  "language_info": {
   "codemirror_mode": {
    "name": "ipython",
    "version": 3
   },
   "file_extension": ".py",
   "mimetype": "text/x-python",
   "name": "python",
   "nbconvert_exporter": "python",
   "pygments_lexer": "ipython3",
   "version": "3.8.16"
  }
 },
 "nbformat": 4,
 "nbformat_minor": 5
}
