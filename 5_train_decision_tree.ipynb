{
 "cells": [
  {
   "cell_type": "markdown",
   "id": "f5990ece",
   "metadata": {},
   "source": [
    "# Binary Classification of Dengue/Chikungunya Symptoms with Logistic Regression\n",
    "\n",
    "- Simple algorithm, a test run of a possible classification project of dengue/chikungunya based on the different symptoms and combinations of symptoms of each disease. Decision Tree in this case.\n",
    "- Data on Dengue and Chikungunya from SINAN-2024\n"
   ]
  },
  {
   "cell_type": "code",
   "execution_count": 1,
   "id": "086851ba",
   "metadata": {},
   "outputs": [],
   "source": [
    "# standard libraries\n",
    "import numpy as np\n",
    "import matplotlib.pyplot as plt\n",
    "import seaborn as sns\n",
    "import pandas as pd\n",
    "\n",
    "# ML libraries and functions\n",
    "from sklearn.model_selection import train_test_split\n",
    "from sklearn.tree import DecisionTreeClassifier\n",
    "from sklearn.metrics import accuracy_score\n",
    "from sklearn import tree\n",
    "from sklearn.metrics import confusion_matrix\n",
    "from sklearn.linear_model import LogisticRegression\n",
    "from sklearn.model_selection import train_test_split, GridSearchCV, cross_val_score, RepeatedStratifiedKFold, StratifiedKFold\n",
    "import graphviz \n",
    "from sklearn.metrics import accuracy_score, confusion_matrix,roc_curve, roc_auc_score, precision_score, recall_score, precision_recall_curve\n",
    "from sklearn.metrics import f1_score"
   ]
  },
  {
   "cell_type": "code",
   "execution_count": 2,
   "id": "b18c8070",
   "metadata": {},
   "outputs": [],
   "source": [
    "# Loading the data \n",
    "\n",
    "df_dengue = pd.read_csv('dengue_SP.csv')\n",
    "df_chik = pd.read_csv('chik_SP.csv')"
   ]
  },
  {
   "cell_type": "code",
   "execution_count": 3,
   "id": "bac2000e",
   "metadata": {},
   "outputs": [
    {
     "data": {
      "text/html": [
       "<div>\n",
       "<style scoped>\n",
       "    .dataframe tbody tr th:only-of-type {\n",
       "        vertical-align: middle;\n",
       "    }\n",
       "\n",
       "    .dataframe tbody tr th {\n",
       "        vertical-align: top;\n",
       "    }\n",
       "\n",
       "    .dataframe thead th {\n",
       "        text-align: right;\n",
       "    }\n",
       "</style>\n",
       "<table border=\"1\" class=\"dataframe\">\n",
       "  <thead>\n",
       "    <tr style=\"text-align: right;\">\n",
       "      <th></th>\n",
       "      <th>CRITERIO</th>\n",
       "      <th>FEBRE</th>\n",
       "      <th>MIALGIA</th>\n",
       "      <th>CEFALEIA</th>\n",
       "      <th>EXANTEMA</th>\n",
       "      <th>VOMITO</th>\n",
       "      <th>NAUSEA</th>\n",
       "      <th>DOR_COSTAS</th>\n",
       "      <th>CONJUNTVIT</th>\n",
       "      <th>ARTRITE</th>\n",
       "      <th>ARTRALGIA</th>\n",
       "      <th>PETEQUIA_N</th>\n",
       "      <th>LEUCOPENIA</th>\n",
       "      <th>LACO</th>\n",
       "      <th>DOR_RETRO</th>\n",
       "    </tr>\n",
       "  </thead>\n",
       "  <tbody>\n",
       "    <tr>\n",
       "      <th>count</th>\n",
       "      <td>1.767186e+06</td>\n",
       "      <td>1.767186e+06</td>\n",
       "      <td>1.767186e+06</td>\n",
       "      <td>1.767186e+06</td>\n",
       "      <td>1.767186e+06</td>\n",
       "      <td>1.767186e+06</td>\n",
       "      <td>1.767186e+06</td>\n",
       "      <td>1.767186e+06</td>\n",
       "      <td>1.767186e+06</td>\n",
       "      <td>1.767186e+06</td>\n",
       "      <td>1.767186e+06</td>\n",
       "      <td>1.767186e+06</td>\n",
       "      <td>1.767186e+06</td>\n",
       "      <td>1.767186e+06</td>\n",
       "      <td>1.767186e+06</td>\n",
       "    </tr>\n",
       "    <tr>\n",
       "      <th>mean</th>\n",
       "      <td>1.525112e+00</td>\n",
       "      <td>1.135946e+00</td>\n",
       "      <td>1.220604e+00</td>\n",
       "      <td>1.206035e+00</td>\n",
       "      <td>1.909500e+00</td>\n",
       "      <td>1.740793e+00</td>\n",
       "      <td>1.564364e+00</td>\n",
       "      <td>1.669362e+00</td>\n",
       "      <td>1.962446e+00</td>\n",
       "      <td>1.903149e+00</td>\n",
       "      <td>1.870194e+00</td>\n",
       "      <td>1.941132e+00</td>\n",
       "      <td>1.957934e+00</td>\n",
       "      <td>1.960215e+00</td>\n",
       "      <td>1.698508e+00</td>\n",
       "    </tr>\n",
       "    <tr>\n",
       "      <th>std</th>\n",
       "      <td>5.130969e-01</td>\n",
       "      <td>3.427308e-01</td>\n",
       "      <td>4.146539e-01</td>\n",
       "      <td>4.044560e-01</td>\n",
       "      <td>2.868966e-01</td>\n",
       "      <td>4.381995e-01</td>\n",
       "      <td>4.958401e-01</td>\n",
       "      <td>4.704431e-01</td>\n",
       "      <td>1.901151e-01</td>\n",
       "      <td>2.957543e-01</td>\n",
       "      <td>3.360898e-01</td>\n",
       "      <td>2.353768e-01</td>\n",
       "      <td>2.007392e-01</td>\n",
       "      <td>1.954531e-01</td>\n",
       "      <td>4.589061e-01</td>\n",
       "    </tr>\n",
       "    <tr>\n",
       "      <th>min</th>\n",
       "      <td>1.000000e+00</td>\n",
       "      <td>1.000000e+00</td>\n",
       "      <td>1.000000e+00</td>\n",
       "      <td>1.000000e+00</td>\n",
       "      <td>1.000000e+00</td>\n",
       "      <td>1.000000e+00</td>\n",
       "      <td>1.000000e+00</td>\n",
       "      <td>1.000000e+00</td>\n",
       "      <td>1.000000e+00</td>\n",
       "      <td>1.000000e+00</td>\n",
       "      <td>1.000000e+00</td>\n",
       "      <td>1.000000e+00</td>\n",
       "      <td>1.000000e+00</td>\n",
       "      <td>1.000000e+00</td>\n",
       "      <td>1.000000e+00</td>\n",
       "    </tr>\n",
       "    <tr>\n",
       "      <th>25%</th>\n",
       "      <td>1.000000e+00</td>\n",
       "      <td>1.000000e+00</td>\n",
       "      <td>1.000000e+00</td>\n",
       "      <td>1.000000e+00</td>\n",
       "      <td>2.000000e+00</td>\n",
       "      <td>1.000000e+00</td>\n",
       "      <td>1.000000e+00</td>\n",
       "      <td>1.000000e+00</td>\n",
       "      <td>2.000000e+00</td>\n",
       "      <td>2.000000e+00</td>\n",
       "      <td>2.000000e+00</td>\n",
       "      <td>2.000000e+00</td>\n",
       "      <td>2.000000e+00</td>\n",
       "      <td>2.000000e+00</td>\n",
       "      <td>1.000000e+00</td>\n",
       "    </tr>\n",
       "    <tr>\n",
       "      <th>50%</th>\n",
       "      <td>2.000000e+00</td>\n",
       "      <td>1.000000e+00</td>\n",
       "      <td>1.000000e+00</td>\n",
       "      <td>1.000000e+00</td>\n",
       "      <td>2.000000e+00</td>\n",
       "      <td>2.000000e+00</td>\n",
       "      <td>2.000000e+00</td>\n",
       "      <td>2.000000e+00</td>\n",
       "      <td>2.000000e+00</td>\n",
       "      <td>2.000000e+00</td>\n",
       "      <td>2.000000e+00</td>\n",
       "      <td>2.000000e+00</td>\n",
       "      <td>2.000000e+00</td>\n",
       "      <td>2.000000e+00</td>\n",
       "      <td>2.000000e+00</td>\n",
       "    </tr>\n",
       "    <tr>\n",
       "      <th>75%</th>\n",
       "      <td>2.000000e+00</td>\n",
       "      <td>1.000000e+00</td>\n",
       "      <td>1.000000e+00</td>\n",
       "      <td>1.000000e+00</td>\n",
       "      <td>2.000000e+00</td>\n",
       "      <td>2.000000e+00</td>\n",
       "      <td>2.000000e+00</td>\n",
       "      <td>2.000000e+00</td>\n",
       "      <td>2.000000e+00</td>\n",
       "      <td>2.000000e+00</td>\n",
       "      <td>2.000000e+00</td>\n",
       "      <td>2.000000e+00</td>\n",
       "      <td>2.000000e+00</td>\n",
       "      <td>2.000000e+00</td>\n",
       "      <td>2.000000e+00</td>\n",
       "    </tr>\n",
       "    <tr>\n",
       "      <th>max</th>\n",
       "      <td>3.000000e+00</td>\n",
       "      <td>2.000000e+00</td>\n",
       "      <td>2.000000e+00</td>\n",
       "      <td>2.000000e+00</td>\n",
       "      <td>2.000000e+00</td>\n",
       "      <td>2.000000e+00</td>\n",
       "      <td>2.000000e+00</td>\n",
       "      <td>2.000000e+00</td>\n",
       "      <td>2.000000e+00</td>\n",
       "      <td>2.000000e+00</td>\n",
       "      <td>2.000000e+00</td>\n",
       "      <td>2.000000e+00</td>\n",
       "      <td>2.000000e+00</td>\n",
       "      <td>2.000000e+00</td>\n",
       "      <td>2.000000e+00</td>\n",
       "    </tr>\n",
       "  </tbody>\n",
       "</table>\n",
       "</div>"
      ],
      "text/plain": [
       "           CRITERIO         FEBRE       MIALGIA      CEFALEIA      EXANTEMA  \\\n",
       "count  1.767186e+06  1.767186e+06  1.767186e+06  1.767186e+06  1.767186e+06   \n",
       "mean   1.525112e+00  1.135946e+00  1.220604e+00  1.206035e+00  1.909500e+00   \n",
       "std    5.130969e-01  3.427308e-01  4.146539e-01  4.044560e-01  2.868966e-01   \n",
       "min    1.000000e+00  1.000000e+00  1.000000e+00  1.000000e+00  1.000000e+00   \n",
       "25%    1.000000e+00  1.000000e+00  1.000000e+00  1.000000e+00  2.000000e+00   \n",
       "50%    2.000000e+00  1.000000e+00  1.000000e+00  1.000000e+00  2.000000e+00   \n",
       "75%    2.000000e+00  1.000000e+00  1.000000e+00  1.000000e+00  2.000000e+00   \n",
       "max    3.000000e+00  2.000000e+00  2.000000e+00  2.000000e+00  2.000000e+00   \n",
       "\n",
       "             VOMITO        NAUSEA    DOR_COSTAS    CONJUNTVIT       ARTRITE  \\\n",
       "count  1.767186e+06  1.767186e+06  1.767186e+06  1.767186e+06  1.767186e+06   \n",
       "mean   1.740793e+00  1.564364e+00  1.669362e+00  1.962446e+00  1.903149e+00   \n",
       "std    4.381995e-01  4.958401e-01  4.704431e-01  1.901151e-01  2.957543e-01   \n",
       "min    1.000000e+00  1.000000e+00  1.000000e+00  1.000000e+00  1.000000e+00   \n",
       "25%    1.000000e+00  1.000000e+00  1.000000e+00  2.000000e+00  2.000000e+00   \n",
       "50%    2.000000e+00  2.000000e+00  2.000000e+00  2.000000e+00  2.000000e+00   \n",
       "75%    2.000000e+00  2.000000e+00  2.000000e+00  2.000000e+00  2.000000e+00   \n",
       "max    2.000000e+00  2.000000e+00  2.000000e+00  2.000000e+00  2.000000e+00   \n",
       "\n",
       "          ARTRALGIA    PETEQUIA_N    LEUCOPENIA          LACO     DOR_RETRO  \n",
       "count  1.767186e+06  1.767186e+06  1.767186e+06  1.767186e+06  1.767186e+06  \n",
       "mean   1.870194e+00  1.941132e+00  1.957934e+00  1.960215e+00  1.698508e+00  \n",
       "std    3.360898e-01  2.353768e-01  2.007392e-01  1.954531e-01  4.589061e-01  \n",
       "min    1.000000e+00  1.000000e+00  1.000000e+00  1.000000e+00  1.000000e+00  \n",
       "25%    2.000000e+00  2.000000e+00  2.000000e+00  2.000000e+00  1.000000e+00  \n",
       "50%    2.000000e+00  2.000000e+00  2.000000e+00  2.000000e+00  2.000000e+00  \n",
       "75%    2.000000e+00  2.000000e+00  2.000000e+00  2.000000e+00  2.000000e+00  \n",
       "max    2.000000e+00  2.000000e+00  2.000000e+00  2.000000e+00  2.000000e+00  "
      ]
     },
     "execution_count": 3,
     "metadata": {},
     "output_type": "execute_result"
    }
   ],
   "source": [
    "# Visualizing the data, making sure of the possible values\n",
    "df_dengue.describe()"
   ]
  },
  {
   "cell_type": "code",
   "execution_count": 4,
   "id": "3aed1f4b",
   "metadata": {},
   "outputs": [],
   "source": [
    "# Removing the cases under investigation\n",
    "df_dengue = df_dengue[df_dengue['CRITERIO'] != 3]\n",
    "df_chik = df_chik[df_chik['CRITERIO'] != 3]"
   ]
  },
  {
   "cell_type": "code",
   "execution_count": 5,
   "id": "cbc8b6d0",
   "metadata": {},
   "outputs": [
    {
     "name": "stdout",
     "output_type": "stream",
     "text": [
      "(1754905, 15)\n",
      "(6495, 15)\n"
     ]
    }
   ],
   "source": [
    "print(df_dengue.shape)\n",
    "print(df_chik.shape)"
   ]
  },
  {
   "cell_type": "code",
   "execution_count": 6,
   "id": "b66806e4",
   "metadata": {},
   "outputs": [],
   "source": [
    "# Separating the laboratorial vs the clinic/epidemiologic criteria\n",
    "\n",
    "df_dengue_lab = df_dengue[df_dengue['CRITERIO'] == 1]\n",
    "df_chik_lab = df_chik[df_chik['CRITERIO'] == 1]\n",
    "\n",
    "df_dengue_epi = df_dengue[df_dengue['CRITERIO'] == 2]\n",
    "df_chik_epi = df_chik[df_chik['CRITERIO'] == 2]"
   ]
  },
  {
   "cell_type": "code",
   "execution_count": 7,
   "id": "5c1a3bc6",
   "metadata": {},
   "outputs": [],
   "source": [
    "# Doing some extra pre-processing\n",
    "\n",
    "## removing the criteria\n",
    "df_dengue_lab = df_dengue_lab.drop(columns = ['CRITERIO'])\n",
    "df_chik_lab = df_chik_lab.drop(columns = ['CRITERIO'])\n",
    "df_dengue_epi = df_dengue_epi.drop(columns = ['CRITERIO'])\n",
    "df_chik_epi = df_chik_epi.drop(columns = ['CRITERIO'])\n",
    "\n",
    "## replacing all 2 with 0 in the symptoms\n",
    "df_dengue_lab = df_dengue_lab.replace(2,0)\n",
    "df_chik_lab = df_chik_lab.replace(2,0)\n",
    "df_dengue_epi = df_dengue_epi.replace(2,0)\n",
    "df_chik_epi = df_chik_epi.replace(2,0)"
   ]
  },
  {
   "cell_type": "code",
   "execution_count": 8,
   "id": "384aab89",
   "metadata": {},
   "outputs": [],
   "source": [
    "# Defining a new variable indicating for dengue\n",
    "df_dengue_lab['CHIK'] = 0\n",
    "df_dengue_epi['CHIK'] = 0\n",
    "df_chik_lab['CHIK'] = 1\n",
    "df_chik_epi['CHIK'] = 1"
   ]
  },
  {
   "cell_type": "code",
   "execution_count": 9,
   "id": "85b866ad",
   "metadata": {},
   "outputs": [],
   "source": [
    "# Defining the full laboratorial dataset\n",
    "df_lab = pd.concat([df_dengue_lab,df_chik_lab])\n",
    "\n",
    "# Defining the full epidemiological dataset\n",
    "df_epi = pd.concat([df_dengue_epi,df_chik_epi])"
   ]
  },
  {
   "cell_type": "markdown",
   "id": "eff30d97",
   "metadata": {},
   "source": [
    "## Defining Train and Test Datasets"
   ]
  },
  {
   "cell_type": "code",
   "execution_count": 10,
   "id": "b1584556",
   "metadata": {},
   "outputs": [],
   "source": [
    "# Defining target and features\n",
    "X = df_lab.drop(columns = ['CHIK'])\n",
    "y = df_lab['CHIK']"
   ]
  },
  {
   "cell_type": "code",
   "execution_count": 11,
   "id": "3260535d",
   "metadata": {},
   "outputs": [],
   "source": [
    "X_train, X_test, y_train, y_test = train_test_split(X, y, stratify=y, test_size = 0.3)"
   ]
  },
  {
   "cell_type": "code",
   "execution_count": 12,
   "id": "cef0daed",
   "metadata": {},
   "outputs": [
    {
     "name": "stdout",
     "output_type": "stream",
     "text": [
      "(600191, 14) (600191,)\n",
      "(257225, 14) (257225,)\n"
     ]
    }
   ],
   "source": [
    "print(X_train.shape, y_train.shape)\n",
    "print(X_test.shape, y_test.shape)"
   ]
  },
  {
   "cell_type": "markdown",
   "id": "ba465467",
   "metadata": {},
   "source": [
    "## Training Decision Tree"
   ]
  },
  {
   "cell_type": "markdown",
   "id": "bd51e61e",
   "metadata": {},
   "source": [
    "### Simple Decision Tree"
   ]
  },
  {
   "cell_type": "code",
   "execution_count": 13,
   "id": "2161eec6",
   "metadata": {},
   "outputs": [],
   "source": [
    "cls = tree.DecisionTreeClassifier(random_state = 13, max_depth = 4)\n",
    "cls.fit(X_train ,y_train)\n",
    "y_pred = cls.predict(X_test)\n",
    "y_pred_train = cls.predict(X_train)"
   ]
  },
  {
   "cell_type": "code",
   "execution_count": 14,
   "id": "001e7a35",
   "metadata": {},
   "outputs": [
    {
     "name": "stdout",
     "output_type": "stream",
     "text": [
      "Accuracy Score: 0.9930955389250656\n",
      "Confusion Matrix: \n",
      "[[255449      0]\n",
      " [  1776      0]]\n",
      "Area Under Curve: 0.5\n",
      "Recall score: 0.0\n"
     ]
    }
   ],
   "source": [
    "print(f'Accuracy Score: {accuracy_score(y_test,y_pred)}')\n",
    "print(f'Confusion Matrix: \\n{confusion_matrix(y_test, y_pred)}')\n",
    "print(f'Area Under Curve: {roc_auc_score(y_test, y_pred)}')\n",
    "print(f'Recall score: {recall_score(y_test,y_pred)}')"
   ]
  },
  {
   "cell_type": "markdown",
   "id": "4175b08c",
   "metadata": {},
   "source": [
    "### Weighted Decision Tree"
   ]
  },
  {
   "cell_type": "code",
   "execution_count": 15,
   "id": "80652cd2",
   "metadata": {},
   "outputs": [],
   "source": [
    "weights = {0: 1, 1: 150}\n",
    "\n",
    "cls = tree.DecisionTreeClassifier(random_state = 13, max_depth = 3, class_weight = weights) \n",
    "cls.fit(X_train ,y_train)\n",
    "y_pred = cls.predict(X_test)\n",
    "y_pred_train = cls.predict(X_train)"
   ]
  },
  {
   "cell_type": "code",
   "execution_count": 16,
   "id": "418a9b25",
   "metadata": {},
   "outputs": [
    {
     "name": "stdout",
     "output_type": "stream",
     "text": [
      "Accuracy Score: 0.7365069491690155\n",
      "Confusion Matrix: \n",
      "[[188209  67240]\n",
      " [   537   1239]]\n",
      "Area Under Curve: 0.7172061695977183\n",
      "Recall score: 0.6976351351351351\n"
     ]
    }
   ],
   "source": [
    "print(f'Accuracy Score: {accuracy_score(y_test,y_pred)}')\n",
    "print(f'Confusion Matrix: \\n{confusion_matrix(y_test, y_pred)}')\n",
    "print(f'Area Under Curve: {roc_auc_score(y_test, y_pred)}')\n",
    "print(f'Recall score: {recall_score(y_test,y_pred)}')"
   ]
  },
  {
   "cell_type": "code",
   "execution_count": 17,
   "id": "5afbba93",
   "metadata": {},
   "outputs": [
    {
     "data": {
      "text/plain": [
       "[Text(0.5, 0.875, 'x[9] <= 0.5\\ngini = 0.5\\nsamples = 600191\\nvalue = [596047, 621600]'),\n",
       " Text(0.25, 0.625, 'x[8] <= 0.5\\ngini = 0.469\\nsamples = 524065\\nvalue = [521975, 313500]'),\n",
       " Text(0.125, 0.375, 'x[3] <= 0.5\\ngini = 0.441\\nsamples = 482100\\nvalue = [480537, 234450]'),\n",
       " Text(0.0625, 0.125, 'gini = 0.421\\nsamples = 440918\\nvalue = [439653, 189750]'),\n",
       " Text(0.1875, 0.125, 'gini = 0.499\\nsamples = 41182\\nvalue = [40884, 44700]'),\n",
       " Text(0.375, 0.375, 'x[13] <= 0.5\\ngini = 0.451\\nsamples = 41965\\nvalue = [41438, 79050]'),\n",
       " Text(0.3125, 0.125, 'gini = 0.412\\nsamples = 21527\\nvalue = [21181, 51900]'),\n",
       " Text(0.4375, 0.125, 'gini = 0.489\\nsamples = 20438\\nvalue = [20257, 27150]'),\n",
       " Text(0.75, 0.625, 'x[13] <= 0.5\\ngini = 0.313\\nsamples = 76126\\nvalue = [74072, 308100]'),\n",
       " Text(0.625, 0.375, 'x[5] <= 0.5\\ngini = 0.253\\nsamples = 37398\\nvalue = [36020, 206700]'),\n",
       " Text(0.5625, 0.125, 'gini = 0.204\\nsamples = 18641\\nvalue = [17735, 135900]'),\n",
       " Text(0.6875, 0.125, 'gini = 0.326\\nsamples = 18757\\nvalue = [18285, 70800]'),\n",
       " Text(0.875, 0.375, 'x[8] <= 0.5\\ngini = 0.397\\nsamples = 38728\\nvalue = [38052, 101400]'),\n",
       " Text(0.8125, 0.125, 'gini = 0.457\\nsamples = 27385\\nvalue = [27055, 49500]'),\n",
       " Text(0.9375, 0.125, 'gini = 0.289\\nsamples = 11343\\nvalue = [10997, 51900]')]"
      ]
     },
     "execution_count": 17,
     "metadata": {},
     "output_type": "execute_result"
    },
    {
     "data": {
      "image/png": "[encoded data removed]",
      "text/plain": [
       "<Figure size 1200x800 with 1 Axes>"
      ]
     },
     "metadata": {},
     "output_type": "display_data"
    }
   ],
   "source": [
    "plt.figure(figsize = (12,8))\n",
    "tree.plot_tree(cls) "
   ]
  },
  {
   "cell_type": "markdown",
   "id": "1fe1503e",
   "metadata": {},
   "source": [
    "### Grid Search Decision Tree for weigths"
   ]
  },
  {
   "cell_type": "code",
   "execution_count": 19,
   "id": "a3ebfffb",
   "metadata": {},
   "outputs": [
    {
     "name": "stdout",
     "output_type": "stream",
     "text": [
      "Best score: 0.7499721128558432 with param: {'class_weight': {0: 1, 1: 120}}\n"
     ]
    }
   ],
   "source": [
    "w = [{0:1,1:120},{0:1,1:130},{0:1,1:140},{0:1,1:150},{0:1,1:160},{0:1,1:170},{0:1,1:180} ]\n",
    "hyperparam_grid = {\"class_weight\": w }\n",
    "\n",
    "cls = tree.DecisionTreeClassifier(random_state = 13, max_depth = 3)\n",
    "\n",
    "grid = GridSearchCV(cls,hyperparam_grid,scoring=\"roc_auc\", n_jobs=1, refit=True)\n",
    "grid.fit(X_train,y_train)\n",
    "print(f'Best score: {grid.best_score_} with param: {grid.best_params_}')"
   ]
  },
  {
   "cell_type": "markdown",
   "id": "778443a8",
   "metadata": {},
   "source": [
    "### Grid Search Decision Tree for weigths + max_depth"
   ]
  },
  {
   "cell_type": "code",
   "execution_count": 20,
   "id": "b1f2dde9",
   "metadata": {},
   "outputs": [
    {
     "name": "stdout",
     "output_type": "stream",
     "text": [
      "Best score: 0.762093800179426 with param: {'class_weight': {0: 1, 1: 120}, 'max_depth': 6}\n"
     ]
    }
   ],
   "source": [
    "w = [{0:1,1:120},{0:1,1:130},{0:1,1:140},{0:1,1:150},{0:1,1:160},{0:1,1:170}]\n",
    "max_depth_range = np.array([2,3,4,5,6])\n",
    "hyperparam_grid = {\"class_weight\": w, \"max_depth\": max_depth_range}\n",
    "\n",
    "cls = tree.DecisionTreeClassifier(random_state = 13, max_depth = 3)\n",
    "\n",
    "grid = GridSearchCV(cls,hyperparam_grid,scoring=\"roc_auc\", n_jobs=1, refit=True)\n",
    "grid.fit(X_train,y_train)\n",
    "print(f'Best score: {grid.best_score_} with param: {grid.best_params_}')"
   ]
  },
  {
   "cell_type": "code",
   "execution_count": 21,
   "id": "bfdc8dbc",
   "metadata": {},
   "outputs": [
    {
     "name": "stdout",
     "output_type": "stream",
     "text": [
      "Accuracy Score: 0.8086383516376713\n",
      "Confusion Matrix: \n",
      "[[206884  48565]\n",
      " [   658   1118]]\n",
      "Area Under Curve: 0.7196941388910725\n",
      "Recall score: 0.6295045045045045\n"
     ]
    }
   ],
   "source": [
    "y_pred = grid.predict(X_test)\n",
    "# performance\n",
    "print(f'Accuracy Score: {accuracy_score(y_test,y_pred)}')\n",
    "print(f'Confusion Matrix: \\n{confusion_matrix(y_test, y_pred)}')\n",
    "print(f'Area Under Curve: {roc_auc_score(y_test, y_pred)}')\n",
    "print(f'Recall score: {recall_score(y_test,y_pred)}')"
   ]
  },
  {
   "cell_type": "code",
   "execution_count": 22,
   "id": "58665e29",
   "metadata": {},
   "outputs": [
    {
     "data": {
      "text/plain": [
       "[Text(0.5, 0.875, 'x[9] <= 0.5\\ngini = 0.191\\nsamples = 600191\\nvalue = [596047, 4972800]'),\n",
       " Text(0.25, 0.625, 'x[8] <= 0.5\\ngini = 0.285\\nsamples = 524065\\nvalue = [521975, 2508000]'),\n",
       " Text(0.125, 0.375, 'x[3] <= 0.5\\ngini = 0.325\\nsamples = 482100\\nvalue = [480537, 1875600]'),\n",
       " Text(0.0625, 0.125, 'gini = 0.348\\nsamples = 440918\\nvalue = [439653, 1518000]'),\n",
       " Text(0.1875, 0.125, 'gini = 0.184\\nsamples = 41182\\nvalue = [40884, 357600]'),\n",
       " Text(0.375, 0.375, 'x[13] <= 0.5\\ngini = 0.115\\nsamples = 41965\\nvalue = [41438, 632400]'),\n",
       " Text(0.3125, 0.125, 'gini = 0.092\\nsamples = 21527\\nvalue = [21181, 415200]'),\n",
       " Text(0.4375, 0.125, 'gini = 0.156\\nsamples = 20438\\nvalue = [20257, 217200]'),\n",
       " Text(0.75, 0.625, 'x[13] <= 0.5\\ngini = 0.057\\nsamples = 76126\\nvalue = [74072, 2464800]'),\n",
       " Text(0.625, 0.375, 'x[5] <= 0.5\\ngini = 0.042\\nsamples = 37398\\nvalue = [36020, 1653600]'),\n",
       " Text(0.5625, 0.125, 'gini = 0.032\\nsamples = 18641\\nvalue = [17735, 1087200]'),\n",
       " Text(0.6875, 0.125, 'gini = 0.061\\nsamples = 18757\\nvalue = [18285, 566400]'),\n",
       " Text(0.875, 0.375, 'x[8] <= 0.5\\ngini = 0.086\\nsamples = 38728\\nvalue = [38052, 811200]'),\n",
       " Text(0.8125, 0.125, 'gini = 0.12\\nsamples = 27385\\nvalue = [27055, 396000]'),\n",
       " Text(0.9375, 0.125, 'gini = 0.05\\nsamples = 11343\\nvalue = [10997, 415200]')]"
      ]
     },
     "execution_count": 22,
     "metadata": {},
     "output_type": "execute_result"
    },
    {
     "data": {
      "image/png": "[encoded data removed]",
      "text/plain": [
       "<Figure size 1200x800 with 1 Axes>"
      ]
     },
     "metadata": {},
     "output_type": "display_data"
    }
   ],
   "source": [
    "plt.figure(figsize = (12,8))\n",
    "cls = tree.DecisionTreeClassifier(random_state = 13, max_depth = 3, class_weight = {0: 1, 1: 1200})\n",
    "cls.fit(X_train, y_train)\n",
    "tree.plot_tree(cls) "
   ]
  },
  {
   "cell_type": "markdown",
   "id": "010b6b05",
   "metadata": {},
   "source": [
    "## Doing a counterfactual of all cases "
   ]
  },
  {
   "cell_type": "markdown",
   "id": "90455ab7",
   "metadata": {},
   "source": [
    "### Number of chik and dengue - total"
   ]
  },
  {
   "cell_type": "code",
   "execution_count": 23,
   "id": "088aca8b",
   "metadata": {},
   "outputs": [],
   "source": [
    "X_lab = df_lab.drop(columns = ['CHIK'])\n",
    "X_epi = df_epi.drop(columns = ['CHIK'])\n",
    "y_lab = df_lab['CHIK']\n",
    "y_epi = df_epi['CHIK']"
   ]
  },
  {
   "cell_type": "code",
   "execution_count": 24,
   "id": "3c452366",
   "metadata": {},
   "outputs": [
    {
     "name": "stdout",
     "output_type": "stream",
     "text": [
      "Numbers from SINAN\n",
      "Dengue total - total:  1754905\n",
      "Chik total - total:  6495\n"
     ]
    }
   ],
   "source": [
    "print('Numbers from SINAN')\n",
    "print('Dengue total - total: ', np.sum(y_lab == 0) + np.sum(y_epi == 0))\n",
    "print('Chik total - total: ', np.sum(y_lab == 1) + np.sum(y_epi == 1))"
   ]
  },
  {
   "cell_type": "code",
   "execution_count": 25,
   "id": "18c000dc",
   "metadata": {},
   "outputs": [],
   "source": [
    "y_pred_lab = grid.predict(X_lab) \n",
    "y_pred_epi = grid.predict(X_epi)"
   ]
  },
  {
   "cell_type": "code",
   "execution_count": 26,
   "id": "608bd001",
   "metadata": {},
   "outputs": [
    {
     "name": "stdout",
     "output_type": "stream",
     "text": [
      "Numbers from Model\n",
      "Dengue total - total:  1421049\n",
      "Chik total - total:  340351\n"
     ]
    }
   ],
   "source": [
    "print('Numbers from Model')\n",
    "print('Dengue total - total: ', np.sum(y_pred_lab == 0) + np.sum(y_pred_epi == 0))\n",
    "print('Chik total - total: ', np.sum(y_pred_lab == 1) + np.sum(y_pred_epi == 1))"
   ]
  }
 ],
 "metadata": {
  "kernelspec": {
   "display_name": "Python 3 (ipykernel)",
   "language": "python",
   "name": "python3"
  },
  "language_info": {
   "codemirror_mode": {
    "name": "ipython",
    "version": 3
   },
   "file_extension": ".py",
   "mimetype": "text/x-python",
   "name": "python",
   "nbconvert_exporter": "python",
   "pygments_lexer": "ipython3",
   "version": "3.8.16"
  }
 },
 "nbformat": 4,
 "nbformat_minor": 5
}
