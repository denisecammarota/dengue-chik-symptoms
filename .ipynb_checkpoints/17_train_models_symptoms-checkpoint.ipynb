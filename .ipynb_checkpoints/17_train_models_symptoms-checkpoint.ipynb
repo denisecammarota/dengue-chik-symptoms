{
 "cells": [
  {
   "cell_type": "code",
   "execution_count": 49,
   "id": "f017e47a",
   "metadata": {},
   "outputs": [],
   "source": [
    "import matplotlib.pyplot as plt\n",
    "import numpy as np\n",
    "import pandas as pd\n",
    "from sklearn import metrics\n",
    "from sklearn.preprocessing import StandardScaler\n",
    "from sklearn.model_selection import train_test_split\n",
    "from sklearn.model_selection import GridSearchCV\n",
    "from sklearn.tree import DecisionTreeClassifier\n",
    "from sklearn.ensemble import RandomForestClassifier\n",
    "from xgboost import XGBClassifier\n",
    "from sklearn.svm import SVC\n",
    "from sklearn.neighbors import KNeighborsClassifier\n",
    "from sklearn import tree\n",
    "import shap\n",
    "from sklearn.linear_model import LogisticRegression\n",
    "from sklearn.metrics import accuracy_score, confusion_matrix, roc_curve, roc_auc_score, auc, precision_score, recall_score, precision_recall_curve"
   ]
  },
  {
   "cell_type": "code",
   "execution_count": 2,
   "id": "0bc27cce",
   "metadata": {},
   "outputs": [],
   "source": [
    "df = pd.read_csv('df_total_sp.csv')\n",
    "df = df.drop(columns = ['SG_UF','NU_IDADE_N'])"
   ]
  },
  {
   "cell_type": "code",
   "execution_count": 3,
   "id": "f397d7d0",
   "metadata": {},
   "outputs": [
    {
     "data": {
      "text/html": [
       "<div>\n",
       "<style scoped>\n",
       "    .dataframe tbody tr th:only-of-type {\n",
       "        vertical-align: middle;\n",
       "    }\n",
       "\n",
       "    .dataframe tbody tr th {\n",
       "        vertical-align: top;\n",
       "    }\n",
       "\n",
       "    .dataframe thead th {\n",
       "        text-align: right;\n",
       "    }\n",
       "</style>\n",
       "<table border=\"1\" class=\"dataframe\">\n",
       "  <thead>\n",
       "    <tr style=\"text-align: right;\">\n",
       "      <th></th>\n",
       "      <th>CRITERIO</th>\n",
       "      <th>FEBRE</th>\n",
       "      <th>MIALGIA</th>\n",
       "      <th>CEFALEIA</th>\n",
       "      <th>EXANTEMA</th>\n",
       "      <th>VOMITO</th>\n",
       "      <th>NAUSEA</th>\n",
       "      <th>DOR_COSTAS</th>\n",
       "      <th>CONJUNTVIT</th>\n",
       "      <th>ARTRITE</th>\n",
       "      <th>ARTRALGIA</th>\n",
       "      <th>PETEQUIA_N</th>\n",
       "      <th>LEUCOPENIA</th>\n",
       "      <th>LACO</th>\n",
       "      <th>DOR_RETRO</th>\n",
       "      <th>CHIK</th>\n",
       "    </tr>\n",
       "  </thead>\n",
       "  <tbody>\n",
       "    <tr>\n",
       "      <th>0</th>\n",
       "      <td>EpiClinico</td>\n",
       "      <td>1</td>\n",
       "      <td>0</td>\n",
       "      <td>1</td>\n",
       "      <td>0</td>\n",
       "      <td>0</td>\n",
       "      <td>0</td>\n",
       "      <td>0</td>\n",
       "      <td>0</td>\n",
       "      <td>0</td>\n",
       "      <td>0</td>\n",
       "      <td>0</td>\n",
       "      <td>0</td>\n",
       "      <td>0</td>\n",
       "      <td>0</td>\n",
       "      <td>0</td>\n",
       "    </tr>\n",
       "    <tr>\n",
       "      <th>1</th>\n",
       "      <td>Laboratorial</td>\n",
       "      <td>1</td>\n",
       "      <td>0</td>\n",
       "      <td>1</td>\n",
       "      <td>0</td>\n",
       "      <td>0</td>\n",
       "      <td>0</td>\n",
       "      <td>1</td>\n",
       "      <td>0</td>\n",
       "      <td>0</td>\n",
       "      <td>0</td>\n",
       "      <td>0</td>\n",
       "      <td>0</td>\n",
       "      <td>0</td>\n",
       "      <td>1</td>\n",
       "      <td>0</td>\n",
       "    </tr>\n",
       "    <tr>\n",
       "      <th>2</th>\n",
       "      <td>EpiClinico</td>\n",
       "      <td>1</td>\n",
       "      <td>1</td>\n",
       "      <td>1</td>\n",
       "      <td>0</td>\n",
       "      <td>0</td>\n",
       "      <td>0</td>\n",
       "      <td>1</td>\n",
       "      <td>0</td>\n",
       "      <td>0</td>\n",
       "      <td>0</td>\n",
       "      <td>0</td>\n",
       "      <td>0</td>\n",
       "      <td>0</td>\n",
       "      <td>0</td>\n",
       "      <td>0</td>\n",
       "    </tr>\n",
       "    <tr>\n",
       "      <th>3</th>\n",
       "      <td>EpiClinico</td>\n",
       "      <td>1</td>\n",
       "      <td>1</td>\n",
       "      <td>1</td>\n",
       "      <td>0</td>\n",
       "      <td>0</td>\n",
       "      <td>0</td>\n",
       "      <td>1</td>\n",
       "      <td>0</td>\n",
       "      <td>1</td>\n",
       "      <td>1</td>\n",
       "      <td>0</td>\n",
       "      <td>0</td>\n",
       "      <td>0</td>\n",
       "      <td>1</td>\n",
       "      <td>0</td>\n",
       "    </tr>\n",
       "    <tr>\n",
       "      <th>4</th>\n",
       "      <td>Laboratorial</td>\n",
       "      <td>1</td>\n",
       "      <td>0</td>\n",
       "      <td>1</td>\n",
       "      <td>0</td>\n",
       "      <td>0</td>\n",
       "      <td>1</td>\n",
       "      <td>0</td>\n",
       "      <td>0</td>\n",
       "      <td>0</td>\n",
       "      <td>0</td>\n",
       "      <td>0</td>\n",
       "      <td>0</td>\n",
       "      <td>0</td>\n",
       "      <td>0</td>\n",
       "      <td>0</td>\n",
       "    </tr>\n",
       "    <tr>\n",
       "      <th>...</th>\n",
       "      <td>...</td>\n",
       "      <td>...</td>\n",
       "      <td>...</td>\n",
       "      <td>...</td>\n",
       "      <td>...</td>\n",
       "      <td>...</td>\n",
       "      <td>...</td>\n",
       "      <td>...</td>\n",
       "      <td>...</td>\n",
       "      <td>...</td>\n",
       "      <td>...</td>\n",
       "      <td>...</td>\n",
       "      <td>...</td>\n",
       "      <td>...</td>\n",
       "      <td>...</td>\n",
       "      <td>...</td>\n",
       "    </tr>\n",
       "    <tr>\n",
       "      <th>1761395</th>\n",
       "      <td>Laboratorial</td>\n",
       "      <td>1</td>\n",
       "      <td>1</td>\n",
       "      <td>1</td>\n",
       "      <td>1</td>\n",
       "      <td>1</td>\n",
       "      <td>1</td>\n",
       "      <td>1</td>\n",
       "      <td>0</td>\n",
       "      <td>1</td>\n",
       "      <td>0</td>\n",
       "      <td>0</td>\n",
       "      <td>0</td>\n",
       "      <td>0</td>\n",
       "      <td>1</td>\n",
       "      <td>1</td>\n",
       "    </tr>\n",
       "    <tr>\n",
       "      <th>1761396</th>\n",
       "      <td>Laboratorial</td>\n",
       "      <td>1</td>\n",
       "      <td>1</td>\n",
       "      <td>1</td>\n",
       "      <td>1</td>\n",
       "      <td>1</td>\n",
       "      <td>1</td>\n",
       "      <td>0</td>\n",
       "      <td>0</td>\n",
       "      <td>0</td>\n",
       "      <td>0</td>\n",
       "      <td>0</td>\n",
       "      <td>0</td>\n",
       "      <td>0</td>\n",
       "      <td>0</td>\n",
       "      <td>1</td>\n",
       "    </tr>\n",
       "    <tr>\n",
       "      <th>1761397</th>\n",
       "      <td>Laboratorial</td>\n",
       "      <td>1</td>\n",
       "      <td>1</td>\n",
       "      <td>1</td>\n",
       "      <td>0</td>\n",
       "      <td>1</td>\n",
       "      <td>1</td>\n",
       "      <td>0</td>\n",
       "      <td>0</td>\n",
       "      <td>0</td>\n",
       "      <td>0</td>\n",
       "      <td>0</td>\n",
       "      <td>0</td>\n",
       "      <td>0</td>\n",
       "      <td>0</td>\n",
       "      <td>1</td>\n",
       "    </tr>\n",
       "    <tr>\n",
       "      <th>1761398</th>\n",
       "      <td>Laboratorial</td>\n",
       "      <td>1</td>\n",
       "      <td>1</td>\n",
       "      <td>1</td>\n",
       "      <td>0</td>\n",
       "      <td>0</td>\n",
       "      <td>1</td>\n",
       "      <td>1</td>\n",
       "      <td>0</td>\n",
       "      <td>0</td>\n",
       "      <td>1</td>\n",
       "      <td>0</td>\n",
       "      <td>0</td>\n",
       "      <td>0</td>\n",
       "      <td>1</td>\n",
       "      <td>1</td>\n",
       "    </tr>\n",
       "    <tr>\n",
       "      <th>1761399</th>\n",
       "      <td>Laboratorial</td>\n",
       "      <td>1</td>\n",
       "      <td>1</td>\n",
       "      <td>1</td>\n",
       "      <td>0</td>\n",
       "      <td>0</td>\n",
       "      <td>0</td>\n",
       "      <td>0</td>\n",
       "      <td>0</td>\n",
       "      <td>0</td>\n",
       "      <td>1</td>\n",
       "      <td>0</td>\n",
       "      <td>0</td>\n",
       "      <td>0</td>\n",
       "      <td>0</td>\n",
       "      <td>1</td>\n",
       "    </tr>\n",
       "  </tbody>\n",
       "</table>\n",
       "<p>1761400 rows × 16 columns</p>\n",
       "</div>"
      ],
      "text/plain": [
       "             CRITERIO  FEBRE  MIALGIA  CEFALEIA  EXANTEMA  VOMITO  NAUSEA  \\\n",
       "0          EpiClinico      1        0         1         0       0       0   \n",
       "1        Laboratorial      1        0         1         0       0       0   \n",
       "2          EpiClinico      1        1         1         0       0       0   \n",
       "3          EpiClinico      1        1         1         0       0       0   \n",
       "4        Laboratorial      1        0         1         0       0       1   \n",
       "...               ...    ...      ...       ...       ...     ...     ...   \n",
       "1761395  Laboratorial      1        1         1         1       1       1   \n",
       "1761396  Laboratorial      1        1         1         1       1       1   \n",
       "1761397  Laboratorial      1        1         1         0       1       1   \n",
       "1761398  Laboratorial      1        1         1         0       0       1   \n",
       "1761399  Laboratorial      1        1         1         0       0       0   \n",
       "\n",
       "         DOR_COSTAS  CONJUNTVIT  ARTRITE  ARTRALGIA  PETEQUIA_N  LEUCOPENIA  \\\n",
       "0                 0           0        0          0           0           0   \n",
       "1                 1           0        0          0           0           0   \n",
       "2                 1           0        0          0           0           0   \n",
       "3                 1           0        1          1           0           0   \n",
       "4                 0           0        0          0           0           0   \n",
       "...             ...         ...      ...        ...         ...         ...   \n",
       "1761395           1           0        1          0           0           0   \n",
       "1761396           0           0        0          0           0           0   \n",
       "1761397           0           0        0          0           0           0   \n",
       "1761398           1           0        0          1           0           0   \n",
       "1761399           0           0        0          1           0           0   \n",
       "\n",
       "         LACO  DOR_RETRO  CHIK  \n",
       "0           0          0     0  \n",
       "1           0          1     0  \n",
       "2           0          0     0  \n",
       "3           0          1     0  \n",
       "4           0          0     0  \n",
       "...       ...        ...   ...  \n",
       "1761395     0          1     1  \n",
       "1761396     0          0     1  \n",
       "1761397     0          0     1  \n",
       "1761398     0          1     1  \n",
       "1761399     0          0     1  \n",
       "\n",
       "[1761400 rows x 16 columns]"
      ]
     },
     "execution_count": 3,
     "metadata": {},
     "output_type": "execute_result"
    }
   ],
   "source": [
    "df"
   ]
  },
  {
   "cell_type": "code",
   "execution_count": 4,
   "id": "1920e7b3",
   "metadata": {},
   "outputs": [],
   "source": [
    "df_lab = df[df['CRITERIO'] == 'Laboratorial']\n",
    "df_lab = df_lab.reset_index(drop = True)\n",
    "df_epi = df[df['CRITERIO'] == 'EpiClinico'] \n",
    "df_epi = df_epi.reset_index(drop = True)\n",
    "df_lab = df_lab.drop(columns = ['CRITERIO'])\n",
    "df_epi = df_epi.drop(columns = ['CRITERIO'])"
   ]
  },
  {
   "cell_type": "markdown",
   "id": "e1d8be72",
   "metadata": {},
   "source": [
    "### Train-test split"
   ]
  },
  {
   "cell_type": "code",
   "execution_count": 5,
   "id": "ece33b0f",
   "metadata": {},
   "outputs": [],
   "source": [
    "X = df_lab.iloc[:,0:13]\n",
    "y = df_lab.iloc[:,14]\n",
    "X_train, X_test, y_train, y_test = train_test_split(X, y, stratify=y, test_size = 0.6, random_state = 0)\n",
    "X_test, X_val, y_test, y_val = train_test_split(X_test, y_test, stratify = y_test, test_size = 0.5, random_state = 0)"
   ]
  },
  {
   "cell_type": "code",
   "execution_count": 6,
   "id": "24850019",
   "metadata": {},
   "outputs": [
    {
     "name": "stdout",
     "output_type": "stream",
     "text": [
      "Train:  (342966,) 2368 340598\n",
      "Test:  (257225,) 1776 255449\n",
      "Validation:  (257225,) 1776 255449\n"
     ]
    }
   ],
   "source": [
    "print('Train: ', y_train.shape, sum(y_train == 1), sum(y_train == 0))\n",
    "print('Test: ', y_test.shape, sum(y_test == 1), sum(y_test == 0))\n",
    "print('Validation: ', y_val.shape, sum(y_val == 1), sum(y_val == 0))"
   ]
  },
  {
   "cell_type": "markdown",
   "id": "29f3750a",
   "metadata": {},
   "source": [
    "### Logistic regression"
   ]
  },
  {
   "cell_type": "code",
   "execution_count": 7,
   "id": "03d2693f",
   "metadata": {},
   "outputs": [
    {
     "name": "stdout",
     "output_type": "stream",
     "text": [
      "0.7664588783967881\n"
     ]
    }
   ],
   "source": [
    "logreg = LogisticRegression(solver='liblinear', random_state=0)\n",
    "logreg.fit(X_train, y_train)\n",
    "y_pred_train = logreg.predict_proba(X_train)[:,1]\n",
    "fpr_1, tpr_1, thresholds = roc_curve(y_train, y_pred_train, pos_label = 1)\n",
    "print(roc_auc_score(y_train, y_pred_train))"
   ]
  },
  {
   "cell_type": "markdown",
   "id": "af4a7b52",
   "metadata": {},
   "source": [
    "### Random Forest"
   ]
  },
  {
   "cell_type": "code",
   "execution_count": 8,
   "id": "34ef8743",
   "metadata": {},
   "outputs": [
    {
     "name": "stdout",
     "output_type": "stream",
     "text": [
      "0.8216393482932959\n"
     ]
    }
   ],
   "source": [
    "rfc = RandomForestClassifier(random_state = 0)\n",
    "rfc.fit(X_train ,y_train)\n",
    "y_pred_train = rfc.predict_proba(X_train)[:,1]\n",
    "fpr_2, tpr_2, thresholds = roc_curve(y_train, y_pred_train, pos_label = 1)\n",
    "print(roc_auc_score(y_train, y_pred_train))"
   ]
  },
  {
   "cell_type": "markdown",
   "id": "fa5a53a1",
   "metadata": {},
   "source": [
    "### XGBoost"
   ]
  },
  {
   "cell_type": "code",
   "execution_count": 9,
   "id": "bd75775a",
   "metadata": {},
   "outputs": [
    {
     "name": "stdout",
     "output_type": "stream",
     "text": [
      "0.8027653751636827\n"
     ]
    }
   ],
   "source": [
    "clx = XGBClassifier(random_state = 0, nthread = 8)\n",
    "clx.fit(X_train, y_train)\n",
    "y_pred_train = clx.predict_proba(X_train)[:,1]\n",
    "fpr_3, tpr_3, thresholds = roc_curve(y_train, y_pred_train, pos_label = 1)\n",
    "print(roc_auc_score(y_train, y_pred_train))"
   ]
  },
  {
   "cell_type": "markdown",
   "id": "ec867bd0",
   "metadata": {},
   "source": [
    "### Random forest with class weights "
   ]
  },
  {
   "cell_type": "code",
   "execution_count": 10,
   "id": "92df0ccb",
   "metadata": {},
   "outputs": [
    {
     "name": "stdout",
     "output_type": "stream",
     "text": [
      "0.8121350690153393\n"
     ]
    }
   ],
   "source": [
    "rfc = RandomForestClassifier(random_state = 0, class_weight = 'balanced')\n",
    "rfc.fit(X_train ,y_train)\n",
    "y_pred_train = rfc.predict_proba(X_train)[:,1]\n",
    "fpr_4, tpr_4, thresholds = roc_curve(y_train, y_pred_train, pos_label = 1)\n",
    "print(roc_auc_score(y_train, y_pred_train))"
   ]
  },
  {
   "cell_type": "markdown",
   "id": "79c95259",
   "metadata": {},
   "source": [
    "### Training with subsampling"
   ]
  },
  {
   "cell_type": "code",
   "execution_count": 17,
   "id": "116cfb5a",
   "metadata": {},
   "outputs": [],
   "source": [
    "num_train_chik = sum(y_train == 1)\n",
    "ind_train_chik = (y_train == 1)"
   ]
  },
  {
   "cell_type": "code",
   "execution_count": 18,
   "id": "0429b131",
   "metadata": {},
   "outputs": [],
   "source": [
    "X_train_chik = X_train.loc[ind_train_chik]\n",
    "y_train_chik = y_train.loc[ind_train_chik]\n",
    "X_train_chik = X_train_chik.reset_index(drop = True)\n",
    "y_train_chik = y_train_chik.reset_index(drop = True)"
   ]
  },
  {
   "cell_type": "code",
   "execution_count": 12,
   "id": "17f06545",
   "metadata": {},
   "outputs": [],
   "source": [
    "ind_train_denv = (y_train == 0)"
   ]
  },
  {
   "cell_type": "code",
   "execution_count": 19,
   "id": "77c8685e",
   "metadata": {},
   "outputs": [],
   "source": [
    "X_train_denv = X_train.loc[ind_train_denv]\n",
    "y_train_denv = y_train.loc[ind_train_denv]\n",
    "X_train_denv = X_train_denv.reset_index(drop = True)\n",
    "y_train_denv = y_train_denv.reset_index(drop = True)"
   ]
  },
  {
   "cell_type": "code",
   "execution_count": 38,
   "id": "817fc856",
   "metadata": {},
   "outputs": [],
   "source": [
    "indexes_denv = np.random.randint(0,X_train_denv.shape[0],num_train_chik)\n",
    "X_train_denv = X_train_denv.loc[indexes_denv]\n",
    "X_train_denv = X_train_denv.reset_index(drop = True)\n",
    "y_train_denv = y_train_denv.loc[indexes_denv]\n",
    "y_train_denv = y_train_denv.reset_index(drop = True)"
   ]
  },
  {
   "cell_type": "code",
   "execution_count": 40,
   "id": "500a9705",
   "metadata": {},
   "outputs": [],
   "source": [
    "X_train_2 = pd.concat([X_train_denv, X_train_chik])\n",
    "y_train_2 = pd.concat([y_train_denv, y_train_chik])"
   ]
  },
  {
   "cell_type": "code",
   "execution_count": 42,
   "id": "76c722ae",
   "metadata": {},
   "outputs": [
    {
     "name": "stdout",
     "output_type": "stream",
     "text": [
      "0.7710536067898557\n"
     ]
    }
   ],
   "source": [
    "logreg = LogisticRegression(solver='liblinear', random_state=0)\n",
    "logreg.fit(X_train_2, y_train_2)\n",
    "y_pred_train = logreg.predict_proba(X_train_2)[:,1]\n",
    "fpr_5, tpr_5, thresholds = roc_curve(y_train_2, y_pred_train, pos_label = 1)\n",
    "print(roc_auc_score(y_train_2, y_pred_train))"
   ]
  },
  {
   "cell_type": "code",
   "execution_count": 44,
   "id": "a1a3b675",
   "metadata": {},
   "outputs": [
    {
     "name": "stdout",
     "output_type": "stream",
     "text": [
      "0.8337523611554969\n"
     ]
    }
   ],
   "source": [
    "rfc = RandomForestClassifier(random_state = 0)\n",
    "rfc.fit(X_train_2 ,y_train_2)\n",
    "y_pred_train = rfc.predict_proba(X_train_2)[:,1]\n",
    "fpr_6, tpr_6, thresholds = roc_curve(y_train_2, y_pred_train, pos_label = 1)\n",
    "print(roc_auc_score(y_train_2, y_pred_train))"
   ]
  },
  {
   "cell_type": "code",
   "execution_count": 45,
   "id": "589b86f6",
   "metadata": {},
   "outputs": [
    {
     "name": "stdout",
     "output_type": "stream",
     "text": [
      "0.8237911918199872\n"
     ]
    }
   ],
   "source": [
    "clx = XGBClassifier(random_state = 0, nthread = 8)\n",
    "clx.fit(X_train_2, y_train_2)\n",
    "y_pred_train = clx.predict_proba(X_train_2)[:,1]\n",
    "fpr_7, tpr_7, thresholds = roc_curve(y_train_2, y_pred_train, pos_label = 1)\n",
    "print(roc_auc_score(y_train_2, y_pred_train))"
   ]
  },
  {
   "cell_type": "markdown",
   "id": "2ef1b022",
   "metadata": {},
   "source": [
    "### KNN classifier"
   ]
  },
  {
   "cell_type": "code",
   "execution_count": 54,
   "id": "31466aed",
   "metadata": {},
   "outputs": [
    {
     "name": "stdout",
     "output_type": "stream",
     "text": [
      "0.5652717663224046\n"
     ]
    }
   ],
   "source": [
    "knn = KNeighborsClassifier(n_jobs = -1)\n",
    "knn.fit(X_train, y_train)\n",
    "y_pred_train = knn.predict_proba(X_train)[:,1]\n",
    "fpr_8, tpr_8, thresholds = roc_curve(y_train, y_pred_train, pos_label = 1)\n",
    "print(roc_auc_score(y_train, y_pred_train))"
   ]
  },
  {
   "cell_type": "code",
   "execution_count": 55,
   "id": "acb80c00",
   "metadata": {},
   "outputs": [
    {
     "name": "stdout",
     "output_type": "stream",
     "text": [
      "0.6777224265545106\n"
     ]
    }
   ],
   "source": [
    "knn = KNeighborsClassifier(n_jobs = -1)\n",
    "knn.fit(X_train_2, y_train_2)\n",
    "y_pred_train = knn.predict_proba(X_train_2)[:,1]\n",
    "fpr_9, tpr_9, thresholds = roc_curve(y_train_2, y_pred_train, pos_label = 1)\n",
    "print(roc_auc_score(y_train_2, y_pred_train))"
   ]
  },
  {
   "cell_type": "markdown",
   "id": "5507f434",
   "metadata": {},
   "source": [
    "### Plotting all classifiers"
   ]
  },
  {
   "cell_type": "code",
   "execution_count": 56,
   "id": "9fb433ce",
   "metadata": {},
   "outputs": [
    {
     "data": {
      "image/png": "[encoded data removed]",
      "text/plain": [
       "<Figure size 640x480 with 1 Axes>"
      ]
     },
     "metadata": {},
     "output_type": "display_data"
    }
   ],
   "source": [
    "plt.plot(fpr_1, tpr_1, label = 'LogReg')\n",
    "plt.plot(fpr_5, tpr_5, label = 'LogReg Undersampling')\n",
    "plt.plot(fpr_2, tpr_2, label = 'RF')\n",
    "plt.plot(fpr_6, tpr_6, label = 'RF Undersampling')\n",
    "plt.plot(fpr_4, tpr_4, label = 'RF Class Balanced')\n",
    "plt.plot(fpr_3, tpr_3, label = 'XGB')\n",
    "plt.plot(fpr_7, tpr_7, label = 'XGB Undersampling')\n",
    "plt.plot(fpr_8, tpr_8, label = 'KNN')\n",
    "plt.plot(fpr_9, tpr_9, label = 'KNN Undersampling')\n",
    "plt.legend()\n",
    "plt.show()"
   ]
  },
  {
   "cell_type": "code",
   "execution_count": null,
   "id": "435b02a9",
   "metadata": {},
   "outputs": [],
   "source": []
  }
 ],
 "metadata": {
  "kernelspec": {
   "display_name": "Python 3 (ipykernel)",
   "language": "python",
   "name": "python3"
  },
  "language_info": {
   "codemirror_mode": {
    "name": "ipython",
    "version": 3
   },
   "file_extension": ".py",
   "mimetype": "text/x-python",
   "name": "python",
   "nbconvert_exporter": "python",
   "pygments_lexer": "ipython3",
   "version": "3.8.16"
  }
 },
 "nbformat": 4,
 "nbformat_minor": 5
}
