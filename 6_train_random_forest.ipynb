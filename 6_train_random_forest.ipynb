{
 "cells": [
  {
   "cell_type": "markdown",
   "id": "f5990ece",
   "metadata": {},
   "source": [
    "# Binary Classification of Dengue/Chikungunya Symptoms with Logistic Regression\n",
    "\n",
    "- Simple algorithm, a test run of a possible classification project of dengue/chikungunya based on the different symptoms and combinations of symptoms of each disease. Decision Tree in this case.\n",
    "- Data on Dengue and Chikungunya from SINAN-2024\n"
   ]
  },
  {
   "cell_type": "code",
   "execution_count": 1,
   "id": "086851ba",
   "metadata": {},
   "outputs": [],
   "source": [
    "# standard libraries\n",
    "import numpy as np\n",
    "import matplotlib.pyplot as plt\n",
    "import seaborn as sns\n",
    "import pandas as pd\n",
    "\n",
    "# ML libraries and functions\n",
    "from sklearn.model_selection import train_test_split\n",
    "from sklearn.tree import DecisionTreeClassifier\n",
    "from sklearn.ensemble import RandomForestClassifier\n",
    "from sklearn.metrics import accuracy_score\n",
    "from sklearn import tree\n",
    "from sklearn.metrics import confusion_matrix\n",
    "from sklearn.linear_model import LogisticRegression\n",
    "from sklearn.model_selection import train_test_split, GridSearchCV, cross_val_score, RepeatedStratifiedKFold, StratifiedKFold\n",
    "import graphviz \n",
    "from sklearn.metrics import accuracy_score, confusion_matrix,roc_curve, roc_auc_score, precision_score, recall_score, precision_recall_curve\n",
    "from sklearn.metrics import f1_score"
   ]
  },
  {
   "cell_type": "code",
   "execution_count": 2,
   "id": "b18c8070",
   "metadata": {},
   "outputs": [],
   "source": [
    "# Loading the data \n",
    "\n",
    "df_dengue = pd.read_csv('dengue_SP.csv')\n",
    "df_chik = pd.read_csv('chik_SP.csv')"
   ]
  },
  {
   "cell_type": "code",
   "execution_count": 3,
   "id": "bac2000e",
   "metadata": {},
   "outputs": [
    {
     "data": {
      "text/html": [
       "<div>\n",
       "<style scoped>\n",
       "    .dataframe tbody tr th:only-of-type {\n",
       "        vertical-align: middle;\n",
       "    }\n",
       "\n",
       "    .dataframe tbody tr th {\n",
       "        vertical-align: top;\n",
       "    }\n",
       "\n",
       "    .dataframe thead th {\n",
       "        text-align: right;\n",
       "    }\n",
       "</style>\n",
       "<table border=\"1\" class=\"dataframe\">\n",
       "  <thead>\n",
       "    <tr style=\"text-align: right;\">\n",
       "      <th></th>\n",
       "      <th>CRITERIO</th>\n",
       "      <th>FEBRE</th>\n",
       "      <th>MIALGIA</th>\n",
       "      <th>CEFALEIA</th>\n",
       "      <th>EXANTEMA</th>\n",
       "      <th>VOMITO</th>\n",
       "      <th>NAUSEA</th>\n",
       "      <th>DOR_COSTAS</th>\n",
       "      <th>CONJUNTVIT</th>\n",
       "      <th>ARTRITE</th>\n",
       "      <th>ARTRALGIA</th>\n",
       "      <th>PETEQUIA_N</th>\n",
       "      <th>LEUCOPENIA</th>\n",
       "      <th>LACO</th>\n",
       "      <th>DOR_RETRO</th>\n",
       "    </tr>\n",
       "  </thead>\n",
       "  <tbody>\n",
       "    <tr>\n",
       "      <th>count</th>\n",
       "      <td>1.767186e+06</td>\n",
       "      <td>1.767186e+06</td>\n",
       "      <td>1.767186e+06</td>\n",
       "      <td>1.767186e+06</td>\n",
       "      <td>1.767186e+06</td>\n",
       "      <td>1.767186e+06</td>\n",
       "      <td>1.767186e+06</td>\n",
       "      <td>1.767186e+06</td>\n",
       "      <td>1.767186e+06</td>\n",
       "      <td>1.767186e+06</td>\n",
       "      <td>1.767186e+06</td>\n",
       "      <td>1.767186e+06</td>\n",
       "      <td>1.767186e+06</td>\n",
       "      <td>1.767186e+06</td>\n",
       "      <td>1.767186e+06</td>\n",
       "    </tr>\n",
       "    <tr>\n",
       "      <th>mean</th>\n",
       "      <td>1.525112e+00</td>\n",
       "      <td>1.135946e+00</td>\n",
       "      <td>1.220604e+00</td>\n",
       "      <td>1.206035e+00</td>\n",
       "      <td>1.909500e+00</td>\n",
       "      <td>1.740793e+00</td>\n",
       "      <td>1.564364e+00</td>\n",
       "      <td>1.669362e+00</td>\n",
       "      <td>1.962446e+00</td>\n",
       "      <td>1.903149e+00</td>\n",
       "      <td>1.870194e+00</td>\n",
       "      <td>1.941132e+00</td>\n",
       "      <td>1.957934e+00</td>\n",
       "      <td>1.960215e+00</td>\n",
       "      <td>1.698508e+00</td>\n",
       "    </tr>\n",
       "    <tr>\n",
       "      <th>std</th>\n",
       "      <td>5.130969e-01</td>\n",
       "      <td>3.427308e-01</td>\n",
       "      <td>4.146539e-01</td>\n",
       "      <td>4.044560e-01</td>\n",
       "      <td>2.868966e-01</td>\n",
       "      <td>4.381995e-01</td>\n",
       "      <td>4.958401e-01</td>\n",
       "      <td>4.704431e-01</td>\n",
       "      <td>1.901151e-01</td>\n",
       "      <td>2.957543e-01</td>\n",
       "      <td>3.360898e-01</td>\n",
       "      <td>2.353768e-01</td>\n",
       "      <td>2.007392e-01</td>\n",
       "      <td>1.954531e-01</td>\n",
       "      <td>4.589061e-01</td>\n",
       "    </tr>\n",
       "    <tr>\n",
       "      <th>min</th>\n",
       "      <td>1.000000e+00</td>\n",
       "      <td>1.000000e+00</td>\n",
       "      <td>1.000000e+00</td>\n",
       "      <td>1.000000e+00</td>\n",
       "      <td>1.000000e+00</td>\n",
       "      <td>1.000000e+00</td>\n",
       "      <td>1.000000e+00</td>\n",
       "      <td>1.000000e+00</td>\n",
       "      <td>1.000000e+00</td>\n",
       "      <td>1.000000e+00</td>\n",
       "      <td>1.000000e+00</td>\n",
       "      <td>1.000000e+00</td>\n",
       "      <td>1.000000e+00</td>\n",
       "      <td>1.000000e+00</td>\n",
       "      <td>1.000000e+00</td>\n",
       "    </tr>\n",
       "    <tr>\n",
       "      <th>25%</th>\n",
       "      <td>1.000000e+00</td>\n",
       "      <td>1.000000e+00</td>\n",
       "      <td>1.000000e+00</td>\n",
       "      <td>1.000000e+00</td>\n",
       "      <td>2.000000e+00</td>\n",
       "      <td>1.000000e+00</td>\n",
       "      <td>1.000000e+00</td>\n",
       "      <td>1.000000e+00</td>\n",
       "      <td>2.000000e+00</td>\n",
       "      <td>2.000000e+00</td>\n",
       "      <td>2.000000e+00</td>\n",
       "      <td>2.000000e+00</td>\n",
       "      <td>2.000000e+00</td>\n",
       "      <td>2.000000e+00</td>\n",
       "      <td>1.000000e+00</td>\n",
       "    </tr>\n",
       "    <tr>\n",
       "      <th>50%</th>\n",
       "      <td>2.000000e+00</td>\n",
       "      <td>1.000000e+00</td>\n",
       "      <td>1.000000e+00</td>\n",
       "      <td>1.000000e+00</td>\n",
       "      <td>2.000000e+00</td>\n",
       "      <td>2.000000e+00</td>\n",
       "      <td>2.000000e+00</td>\n",
       "      <td>2.000000e+00</td>\n",
       "      <td>2.000000e+00</td>\n",
       "      <td>2.000000e+00</td>\n",
       "      <td>2.000000e+00</td>\n",
       "      <td>2.000000e+00</td>\n",
       "      <td>2.000000e+00</td>\n",
       "      <td>2.000000e+00</td>\n",
       "      <td>2.000000e+00</td>\n",
       "    </tr>\n",
       "    <tr>\n",
       "      <th>75%</th>\n",
       "      <td>2.000000e+00</td>\n",
       "      <td>1.000000e+00</td>\n",
       "      <td>1.000000e+00</td>\n",
       "      <td>1.000000e+00</td>\n",
       "      <td>2.000000e+00</td>\n",
       "      <td>2.000000e+00</td>\n",
       "      <td>2.000000e+00</td>\n",
       "      <td>2.000000e+00</td>\n",
       "      <td>2.000000e+00</td>\n",
       "      <td>2.000000e+00</td>\n",
       "      <td>2.000000e+00</td>\n",
       "      <td>2.000000e+00</td>\n",
       "      <td>2.000000e+00</td>\n",
       "      <td>2.000000e+00</td>\n",
       "      <td>2.000000e+00</td>\n",
       "    </tr>\n",
       "    <tr>\n",
       "      <th>max</th>\n",
       "      <td>3.000000e+00</td>\n",
       "      <td>2.000000e+00</td>\n",
       "      <td>2.000000e+00</td>\n",
       "      <td>2.000000e+00</td>\n",
       "      <td>2.000000e+00</td>\n",
       "      <td>2.000000e+00</td>\n",
       "      <td>2.000000e+00</td>\n",
       "      <td>2.000000e+00</td>\n",
       "      <td>2.000000e+00</td>\n",
       "      <td>2.000000e+00</td>\n",
       "      <td>2.000000e+00</td>\n",
       "      <td>2.000000e+00</td>\n",
       "      <td>2.000000e+00</td>\n",
       "      <td>2.000000e+00</td>\n",
       "      <td>2.000000e+00</td>\n",
       "    </tr>\n",
       "  </tbody>\n",
       "</table>\n",
       "</div>"
      ],
      "text/plain": [
       "           CRITERIO         FEBRE       MIALGIA      CEFALEIA      EXANTEMA  \\\n",
       "count  1.767186e+06  1.767186e+06  1.767186e+06  1.767186e+06  1.767186e+06   \n",
       "mean   1.525112e+00  1.135946e+00  1.220604e+00  1.206035e+00  1.909500e+00   \n",
       "std    5.130969e-01  3.427308e-01  4.146539e-01  4.044560e-01  2.868966e-01   \n",
       "min    1.000000e+00  1.000000e+00  1.000000e+00  1.000000e+00  1.000000e+00   \n",
       "25%    1.000000e+00  1.000000e+00  1.000000e+00  1.000000e+00  2.000000e+00   \n",
       "50%    2.000000e+00  1.000000e+00  1.000000e+00  1.000000e+00  2.000000e+00   \n",
       "75%    2.000000e+00  1.000000e+00  1.000000e+00  1.000000e+00  2.000000e+00   \n",
       "max    3.000000e+00  2.000000e+00  2.000000e+00  2.000000e+00  2.000000e+00   \n",
       "\n",
       "             VOMITO        NAUSEA    DOR_COSTAS    CONJUNTVIT       ARTRITE  \\\n",
       "count  1.767186e+06  1.767186e+06  1.767186e+06  1.767186e+06  1.767186e+06   \n",
       "mean   1.740793e+00  1.564364e+00  1.669362e+00  1.962446e+00  1.903149e+00   \n",
       "std    4.381995e-01  4.958401e-01  4.704431e-01  1.901151e-01  2.957543e-01   \n",
       "min    1.000000e+00  1.000000e+00  1.000000e+00  1.000000e+00  1.000000e+00   \n",
       "25%    1.000000e+00  1.000000e+00  1.000000e+00  2.000000e+00  2.000000e+00   \n",
       "50%    2.000000e+00  2.000000e+00  2.000000e+00  2.000000e+00  2.000000e+00   \n",
       "75%    2.000000e+00  2.000000e+00  2.000000e+00  2.000000e+00  2.000000e+00   \n",
       "max    2.000000e+00  2.000000e+00  2.000000e+00  2.000000e+00  2.000000e+00   \n",
       "\n",
       "          ARTRALGIA    PETEQUIA_N    LEUCOPENIA          LACO     DOR_RETRO  \n",
       "count  1.767186e+06  1.767186e+06  1.767186e+06  1.767186e+06  1.767186e+06  \n",
       "mean   1.870194e+00  1.941132e+00  1.957934e+00  1.960215e+00  1.698508e+00  \n",
       "std    3.360898e-01  2.353768e-01  2.007392e-01  1.954531e-01  4.589061e-01  \n",
       "min    1.000000e+00  1.000000e+00  1.000000e+00  1.000000e+00  1.000000e+00  \n",
       "25%    2.000000e+00  2.000000e+00  2.000000e+00  2.000000e+00  1.000000e+00  \n",
       "50%    2.000000e+00  2.000000e+00  2.000000e+00  2.000000e+00  2.000000e+00  \n",
       "75%    2.000000e+00  2.000000e+00  2.000000e+00  2.000000e+00  2.000000e+00  \n",
       "max    2.000000e+00  2.000000e+00  2.000000e+00  2.000000e+00  2.000000e+00  "
      ]
     },
     "execution_count": 3,
     "metadata": {},
     "output_type": "execute_result"
    }
   ],
   "source": [
    "# Visualizing the data, making sure of the possible values\n",
    "df_dengue.describe()"
   ]
  },
  {
   "cell_type": "code",
   "execution_count": 5,
   "id": "3aed1f4b",
   "metadata": {},
   "outputs": [],
   "source": [
    "# Removing the cases under investigation\n",
    "df_dengue = df_dengue[df_dengue['CRITERIO'] != 3]\n",
    "df_chik = df_chik[df_chik['CRITERIO'] != 3]"
   ]
  },
  {
   "cell_type": "code",
   "execution_count": 6,
   "id": "cbc8b6d0",
   "metadata": {},
   "outputs": [
    {
     "name": "stdout",
     "output_type": "stream",
     "text": [
      "(1754905, 15)\n",
      "(6495, 15)\n"
     ]
    }
   ],
   "source": [
    "print(df_dengue.shape)\n",
    "print(df_chik.shape)"
   ]
  },
  {
   "cell_type": "code",
   "execution_count": 7,
   "id": "b66806e4",
   "metadata": {},
   "outputs": [],
   "source": [
    "# Separating the laboratorial vs the clinic/epidemiologic criteria\n",
    "\n",
    "df_dengue_lab = df_dengue[df_dengue['CRITERIO'] == 1]\n",
    "df_chik_lab = df_chik[df_chik['CRITERIO'] == 1]\n",
    "\n",
    "df_dengue_epi = df_dengue[df_dengue['CRITERIO'] == 2]\n",
    "df_chik_epi = df_chik[df_chik['CRITERIO'] == 2]"
   ]
  },
  {
   "cell_type": "code",
   "execution_count": 8,
   "id": "5c1a3bc6",
   "metadata": {},
   "outputs": [],
   "source": [
    "# Doing some extra pre-processing\n",
    "\n",
    "## removing the criteria\n",
    "df_dengue_lab = df_dengue_lab.drop(columns = ['CRITERIO'])\n",
    "df_chik_lab = df_chik_lab.drop(columns = ['CRITERIO'])\n",
    "df_dengue_epi = df_dengue_epi.drop(columns = ['CRITERIO'])\n",
    "df_chik_epi = df_chik_epi.drop(columns = ['CRITERIO'])\n",
    "\n",
    "## replacing all 2 with 0 in the symptoms\n",
    "df_dengue_lab = df_dengue_lab.replace(2,0)\n",
    "df_chik_lab = df_chik_lab.replace(2,0)\n",
    "df_dengue_epi = df_dengue_epi.replace(2,0)\n",
    "df_chik_epi = df_chik_epi.replace(2,0)"
   ]
  },
  {
   "cell_type": "code",
   "execution_count": 9,
   "id": "384aab89",
   "metadata": {},
   "outputs": [],
   "source": [
    "# Defining a new variable indicating for dengue\n",
    "df_dengue_lab['CHIK'] = 0\n",
    "df_dengue_epi['CHIK'] = 0\n",
    "df_chik_lab['CHIK'] = 1\n",
    "df_chik_epi['CHIK'] = 1"
   ]
  },
  {
   "cell_type": "code",
   "execution_count": 10,
   "id": "85b866ad",
   "metadata": {},
   "outputs": [],
   "source": [
    "# Defining the full laboratorial dataset\n",
    "df_lab = pd.concat([df_dengue_lab,df_chik_lab])\n",
    "\n",
    "# Defining the full epidemiological dataset\n",
    "df_epi = pd.concat([df_dengue_epi,df_chik_epi])"
   ]
  },
  {
   "cell_type": "markdown",
   "id": "eff30d97",
   "metadata": {},
   "source": [
    "## Defining Train and Test Datasets"
   ]
  },
  {
   "cell_type": "code",
   "execution_count": 11,
   "id": "b1584556",
   "metadata": {},
   "outputs": [],
   "source": [
    "# Defining target and features\n",
    "X = df_lab.drop(columns = ['CHIK'])\n",
    "y = df_lab['CHIK']"
   ]
  },
  {
   "cell_type": "code",
   "execution_count": 12,
   "id": "3260535d",
   "metadata": {},
   "outputs": [],
   "source": [
    "X_train, X_test, y_train, y_test = train_test_split(X, y, stratify=y, test_size = 0.3)"
   ]
  },
  {
   "cell_type": "code",
   "execution_count": 13,
   "id": "cef0daed",
   "metadata": {},
   "outputs": [
    {
     "name": "stdout",
     "output_type": "stream",
     "text": [
      "(600191, 14) (600191,)\n",
      "(257225, 14) (257225,)\n"
     ]
    }
   ],
   "source": [
    "print(X_train.shape, y_train.shape)\n",
    "print(X_test.shape, y_test.shape)"
   ]
  },
  {
   "cell_type": "markdown",
   "id": "ba465467",
   "metadata": {},
   "source": [
    "## Training Random Forest"
   ]
  },
  {
   "cell_type": "markdown",
   "id": "bd51e61e",
   "metadata": {},
   "source": [
    "### Simple Random Forest"
   ]
  },
  {
   "cell_type": "code",
   "execution_count": 14,
   "id": "2161eec6",
   "metadata": {},
   "outputs": [],
   "source": [
    "rfc = RandomForestClassifier(random_state = 13, max_depth = 3)\n",
    "rfc.fit(X_train ,y_train)\n",
    "y_pred = rfc.predict(X_test)\n",
    "y_pred_train = rfc.predict(X_train)"
   ]
  },
  {
   "cell_type": "code",
   "execution_count": 15,
   "id": "001e7a35",
   "metadata": {},
   "outputs": [
    {
     "name": "stdout",
     "output_type": "stream",
     "text": [
      "Accuracy Score: 0.9930955389250656\n",
      "Confusion Matrix: \n",
      "[[255449      0]\n",
      " [  1776      0]]\n",
      "Area Under Curve: 0.5\n",
      "Recall score: 0.0\n"
     ]
    }
   ],
   "source": [
    "print(f'Accuracy Score: {accuracy_score(y_test,y_pred)}')\n",
    "print(f'Confusion Matrix: \\n{confusion_matrix(y_test, y_pred)}')\n",
    "print(f'Area Under Curve: {roc_auc_score(y_test, y_pred)}')\n",
    "print(f'Recall score: {recall_score(y_test,y_pred)}')"
   ]
  },
  {
   "cell_type": "markdown",
   "id": "5a7b6a21",
   "metadata": {},
   "source": [
    "### Weighted Random Forest"
   ]
  },
  {
   "cell_type": "code",
   "execution_count": 16,
   "id": "1a422b44",
   "metadata": {},
   "outputs": [],
   "source": [
    "weights = {0: 1, 1: 150}\n",
    "\n",
    "rfc = RandomForestClassifier(random_state = 13, max_depth = 3, n_estimators = 200, class_weight = weights)\n",
    "rfc.fit(X_train ,y_train)\n",
    "y_pred = rfc.predict(X_test)\n",
    "y_pred_train = rfc.predict(X_train)"
   ]
  },
  {
   "cell_type": "code",
   "execution_count": 17,
   "id": "70f07e5f",
   "metadata": {},
   "outputs": [
    {
     "name": "stdout",
     "output_type": "stream",
     "text": [
      "Accuracy Score: 0.8000583147050248\n",
      "Confusion Matrix: \n",
      "[[204670  50779]\n",
      " [   651   1125]]\n",
      "Area Under Curve: 0.7173313135810787\n",
      "Recall score: 0.6334459459459459\n"
     ]
    }
   ],
   "source": [
    "print(f'Accuracy Score: {accuracy_score(y_test,y_pred)}')\n",
    "print(f'Confusion Matrix: \\n{confusion_matrix(y_test, y_pred)}')\n",
    "print(f'Area Under Curve: {roc_auc_score(y_test, y_pred)}')\n",
    "print(f'Recall score: {recall_score(y_test,y_pred)}')"
   ]
  },
  {
   "cell_type": "markdown",
   "id": "d36a4142",
   "metadata": {},
   "source": [
    "### Optimization Random  Forest"
   ]
  },
  {
   "cell_type": "code",
   "execution_count": 19,
   "id": "9ca072b1",
   "metadata": {},
   "outputs": [
    {
     "data": {
      "text/html": [
       "<style>#sk-container-id-1 {color: black;background-color: white;}#sk-container-id-1 pre{padding: 0;}#sk-container-id-1 div.sk-toggleable {background-color: white;}#sk-container-id-1 label.sk-toggleable__label {cursor: pointer;display: block;width: 100%;margin-bottom: 0;padding: 0.3em;box-sizing: border-box;text-align: center;}#sk-container-id-1 label.sk-toggleable__label-arrow:before {content: \"▸\";float: left;margin-right: 0.25em;color: #696969;}#sk-container-id-1 label.sk-toggleable__label-arrow:hover:before {color: black;}#sk-container-id-1 div.sk-estimator:hover label.sk-toggleable__label-arrow:before {color: black;}#sk-container-id-1 div.sk-toggleable__content {max-height: 0;max-width: 0;overflow: hidden;text-align: left;background-color: #f0f8ff;}#sk-container-id-1 div.sk-toggleable__content pre {margin: 0.2em;color: black;border-radius: 0.25em;background-color: #f0f8ff;}#sk-container-id-1 input.sk-toggleable__control:checked~div.sk-toggleable__content {max-height: 200px;max-width: 100%;overflow: auto;}#sk-container-id-1 input.sk-toggleable__control:checked~label.sk-toggleable__label-arrow:before {content: \"▾\";}#sk-container-id-1 div.sk-estimator input.sk-toggleable__control:checked~label.sk-toggleable__label {background-color: #d4ebff;}#sk-container-id-1 div.sk-label input.sk-toggleable__control:checked~label.sk-toggleable__label {background-color: #d4ebff;}#sk-container-id-1 input.sk-hidden--visually {border: 0;clip: rect(1px 1px 1px 1px);clip: rect(1px, 1px, 1px, 1px);height: 1px;margin: -1px;overflow: hidden;padding: 0;position: absolute;width: 1px;}#sk-container-id-1 div.sk-estimator {font-family: monospace;background-color: #f0f8ff;border: 1px dotted black;border-radius: 0.25em;box-sizing: border-box;margin-bottom: 0.5em;}#sk-container-id-1 div.sk-estimator:hover {background-color: #d4ebff;}#sk-container-id-1 div.sk-parallel-item::after {content: \"\";width: 100%;border-bottom: 1px solid gray;flex-grow: 1;}#sk-container-id-1 div.sk-label:hover label.sk-toggleable__label {background-color: #d4ebff;}#sk-container-id-1 div.sk-serial::before {content: \"\";position: absolute;border-left: 1px solid gray;box-sizing: border-box;top: 0;bottom: 0;left: 50%;z-index: 0;}#sk-container-id-1 div.sk-serial {display: flex;flex-direction: column;align-items: center;background-color: white;padding-right: 0.2em;padding-left: 0.2em;position: relative;}#sk-container-id-1 div.sk-item {position: relative;z-index: 1;}#sk-container-id-1 div.sk-parallel {display: flex;align-items: stretch;justify-content: center;background-color: white;position: relative;}#sk-container-id-1 div.sk-item::before, #sk-container-id-1 div.sk-parallel-item::before {content: \"\";position: absolute;border-left: 1px solid gray;box-sizing: border-box;top: 0;bottom: 0;left: 50%;z-index: -1;}#sk-container-id-1 div.sk-parallel-item {display: flex;flex-direction: column;z-index: 1;position: relative;background-color: white;}#sk-container-id-1 div.sk-parallel-item:first-child::after {align-self: flex-end;width: 50%;}#sk-container-id-1 div.sk-parallel-item:last-child::after {align-self: flex-start;width: 50%;}#sk-container-id-1 div.sk-parallel-item:only-child::after {width: 0;}#sk-container-id-1 div.sk-dashed-wrapped {border: 1px dashed gray;margin: 0 0.4em 0.5em 0.4em;box-sizing: border-box;padding-bottom: 0.4em;background-color: white;}#sk-container-id-1 div.sk-label label {font-family: monospace;font-weight: bold;display: inline-block;line-height: 1.2em;}#sk-container-id-1 div.sk-label-container {text-align: center;}#sk-container-id-1 div.sk-container {/* jupyter's `normalize.less` sets `[hidden] { display: none; }` but bootstrap.min.css set `[hidden] { display: none !important; }` so we also need the `!important` here to be able to override the default hidden behavior on the sphinx rendered scikit-learn.org. See: https://github.com/scikit-learn/scikit-learn/issues/21755 */display: inline-block !important;position: relative;}#sk-container-id-1 div.sk-text-repr-fallback {display: none;}</style><div id=\"sk-container-id-1\" class=\"sk-top-container\"><div class=\"sk-text-repr-fallback\"><pre>GridSearchCV(estimator=RandomForestClassifier(random_state=13), n_jobs=1,\n",
       "             param_grid={&#x27;class_weight&#x27;: [{0: 1, 1: 150}, {0: 1, 1: 140},\n",
       "                                          {0: 1, 1: 120}],\n",
       "                         &#x27;max_depth&#x27;: array([2, 3, 4]),\n",
       "                         &#x27;n_estimators&#x27;: array([100, 200, 500])},\n",
       "             scoring=&#x27;roc_auc&#x27;)</pre><b>In a Jupyter environment, please rerun this cell to show the HTML representation or trust the notebook. <br />On GitHub, the HTML representation is unable to render, please try loading this page with nbviewer.org.</b></div><div class=\"sk-container\" hidden><div class=\"sk-item sk-dashed-wrapped\"><div class=\"sk-label-container\"><div class=\"sk-label sk-toggleable\"><input class=\"sk-toggleable__control sk-hidden--visually\" id=\"sk-estimator-id-1\" type=\"checkbox\" ><label for=\"sk-estimator-id-1\" class=\"sk-toggleable__label sk-toggleable__label-arrow\">GridSearchCV</label><div class=\"sk-toggleable__content\"><pre>GridSearchCV(estimator=RandomForestClassifier(random_state=13), n_jobs=1,\n",
       "             param_grid={&#x27;class_weight&#x27;: [{0: 1, 1: 150}, {0: 1, 1: 140},\n",
       "                                          {0: 1, 1: 120}],\n",
       "                         &#x27;max_depth&#x27;: array([2, 3, 4]),\n",
       "                         &#x27;n_estimators&#x27;: array([100, 200, 500])},\n",
       "             scoring=&#x27;roc_auc&#x27;)</pre></div></div></div><div class=\"sk-parallel\"><div class=\"sk-parallel-item\"><div class=\"sk-item\"><div class=\"sk-label-container\"><div class=\"sk-label sk-toggleable\"><input class=\"sk-toggleable__control sk-hidden--visually\" id=\"sk-estimator-id-2\" type=\"checkbox\" ><label for=\"sk-estimator-id-2\" class=\"sk-toggleable__label sk-toggleable__label-arrow\">estimator: RandomForestClassifier</label><div class=\"sk-toggleable__content\"><pre>RandomForestClassifier(random_state=13)</pre></div></div></div><div class=\"sk-serial\"><div class=\"sk-item\"><div class=\"sk-estimator sk-toggleable\"><input class=\"sk-toggleable__control sk-hidden--visually\" id=\"sk-estimator-id-3\" type=\"checkbox\" ><label for=\"sk-estimator-id-3\" class=\"sk-toggleable__label sk-toggleable__label-arrow\">RandomForestClassifier</label><div class=\"sk-toggleable__content\"><pre>RandomForestClassifier(random_state=13)</pre></div></div></div></div></div></div></div></div></div></div>"
      ],
      "text/plain": [
       "GridSearchCV(estimator=RandomForestClassifier(random_state=13), n_jobs=1,\n",
       "             param_grid={'class_weight': [{0: 1, 1: 150}, {0: 1, 1: 140},\n",
       "                                          {0: 1, 1: 120}],\n",
       "                         'max_depth': array([2, 3, 4]),\n",
       "                         'n_estimators': array([100, 200, 500])},\n",
       "             scoring='roc_auc')"
      ]
     },
     "execution_count": 19,
     "metadata": {},
     "output_type": "execute_result"
    }
   ],
   "source": [
    "weights = [{0: 1, 1: 150}, {0:1, 1:140}, {0:1, 1: 120}]\n",
    "n_estimators_range = np.array([100, 200, 500])\n",
    "max_depth_range = np.array([2, 3, 4])\n",
    "hyperparam_grid = {\"class_weight\": weights, \"n_estimators\": n_estimators_range, \"max_depth\": max_depth_range}\n",
    "\n",
    "rfc = RandomForestClassifier(random_state = 13)\n",
    "grid = GridSearchCV(rfc,hyperparam_grid,scoring=\"roc_auc\", n_jobs=1, refit=True)\n",
    "grid.fit(X_train,y_train)"
   ]
  },
  {
   "cell_type": "code",
   "execution_count": 20,
   "id": "02da6b30",
   "metadata": {},
   "outputs": [
    {
     "name": "stdout",
     "output_type": "stream",
     "text": [
      "Best score: 0.7688745981791011 with param: {'class_weight': {0: 1, 1: 120}, 'max_depth': 4, 'n_estimators': 200}\n"
     ]
    }
   ],
   "source": [
    "print(f'Best score: {grid.best_score_} with param: {grid.best_params_}')"
   ]
  },
  {
   "cell_type": "code",
   "execution_count": 21,
   "id": "d5261c61",
   "metadata": {},
   "outputs": [
    {
     "name": "stdout",
     "output_type": "stream",
     "text": [
      "Accuracy Score: 0.825981144912042\n",
      "Confusion Matrix: \n",
      "[[211379  44070]\n",
      " [   692   1084]]\n",
      "Area Under Curve: 0.7189203005173119\n",
      "Recall score: 0.6103603603603603\n"
     ]
    }
   ],
   "source": [
    "y_pred = grid.predict(X_test)\n",
    "# performance\n",
    "print(f'Accuracy Score: {accuracy_score(y_test,y_pred)}')\n",
    "print(f'Confusion Matrix: \\n{confusion_matrix(y_test, y_pred)}')\n",
    "print(f'Area Under Curve: {roc_auc_score(y_test, y_pred)}')\n",
    "print(f'Recall score: {recall_score(y_test,y_pred)}')"
   ]
  },
  {
   "cell_type": "markdown",
   "id": "010b6b05",
   "metadata": {},
   "source": [
    "## Doing a counterfactual of all cases"
   ]
  },
  {
   "cell_type": "markdown",
   "id": "90455ab7",
   "metadata": {},
   "source": [
    "### Number of chik and dengue - total"
   ]
  },
  {
   "cell_type": "code",
   "execution_count": 22,
   "id": "088aca8b",
   "metadata": {},
   "outputs": [],
   "source": [
    "X_lab = df_lab.drop(columns = ['CHIK'])\n",
    "X_epi = df_epi.drop(columns = ['CHIK'])\n",
    "y_lab = df_lab['CHIK']\n",
    "y_epi = df_epi['CHIK']"
   ]
  },
  {
   "cell_type": "code",
   "execution_count": 23,
   "id": "3c452366",
   "metadata": {},
   "outputs": [
    {
     "name": "stdout",
     "output_type": "stream",
     "text": [
      "Numbers from SINAN\n",
      "Dengue total - total:  1754905\n",
      "Chik total - total:  6495\n"
     ]
    }
   ],
   "source": [
    "print('Numbers from SINAN')\n",
    "print('Dengue total - total: ', np.sum(y_lab == 0) + np.sum(y_epi == 0))\n",
    "print('Chik total - total: ', np.sum(y_lab == 1) + np.sum(y_epi == 1))"
   ]
  },
  {
   "cell_type": "code",
   "execution_count": 24,
   "id": "18c000dc",
   "metadata": {},
   "outputs": [],
   "source": [
    "y_pred_lab = grid.predict(X_lab) \n",
    "y_pred_epi = grid.predict(X_epi)"
   ]
  },
  {
   "cell_type": "code",
   "execution_count": 25,
   "id": "608bd001",
   "metadata": {},
   "outputs": [
    {
     "name": "stdout",
     "output_type": "stream",
     "text": [
      "Numbers from Model\n",
      "Dengue total - total:  1449411\n",
      "Chik total - total:  311989\n"
     ]
    }
   ],
   "source": [
    "print('Numbers from Model')\n",
    "print('Dengue total - total: ', np.sum(y_pred_lab == 0) + np.sum(y_pred_epi == 0))\n",
    "print('Chik total - total: ', np.sum(y_pred_lab == 1) + np.sum(y_pred_epi == 1))"
   ]
  }
 ],
 "metadata": {
  "kernelspec": {
   "display_name": "Python 3 (ipykernel)",
   "language": "python",
   "name": "python3"
  },
  "language_info": {
   "codemirror_mode": {
    "name": "ipython",
    "version": 3
   },
   "file_extension": ".py",
   "mimetype": "text/x-python",
   "name": "python",
   "nbconvert_exporter": "python",
   "pygments_lexer": "ipython3",
   "version": "3.8.16"
  }
 },
 "nbformat": 4,
 "nbformat_minor": 5
}
